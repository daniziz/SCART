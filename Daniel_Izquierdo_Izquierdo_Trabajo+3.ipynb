{
 "cells": [
  {
   "cell_type": "markdown",
   "metadata": {
    "colab_type": "text",
    "id": "Ic4_occAAiAT"
   },
   "source": [
    "# Word Vectors"
   ]
  },
  {
   "cell_type": "markdown",
   "metadata": {
    "colab_type": "text",
    "id": "Eg62Pmz3o83v"
   },
   "source": [
    "En este trabajo, utilizaremos **embeddings** para resolver un problema de clasificación de texto. Los embeddings, representaciones distribuidas y vectoriales de elementos, son un concepto muy común en el mundo del deep learning. Los **word vectors** que hemos visto en clase son una representación en forma de embedding de las palabras.\n",
    "\n",
    "Para realizar este trabajo y sacarle el máximo partido, se recomienda ver los siguientes vídeos de clase:\n",
    "\n",
    "*   Clasificación de texto con Word Vectors.\n",
    "*   Análisis de overfitting con un modelo bag of words.\n",
    "*   Clasificación de texto con RNN\n",
    "\n",
    "Vamos a utilizar el dataset **\"Reuters newswire topics classification\"**, disponible desde Keras de manera similar al dataset de IMDB ([ver documentación](https://keras.io/datasets/#reuters-newswire-topics-classification)).\n",
    "\n",
    "---\n",
    "\n",
    "Se pide:\n",
    "\n",
    "Entrenar un modelo **utilizando embeddings** que consiga un **65% de accuracy en test (55% si usamos RNNs)**, mostrando el entrenamiento y el resultado final.\n",
    " \n",
    "Tenemos varias opciones para entrenar modelos con embeddings. El alumno puede explorar más de una pero es suficiente con conseguir un modelo que alcance la accuracy requerida:\n",
    "\n",
    "*   Utilizar una **media de embeddings** al estilo de lo visto en el vídeo *Clasificación de texto con Word Vectors*\n",
    "*   Utilizar una **CNN** sobre una secuencia de word vectors. Aquí necesitamos cambiar un poco la idea de convolución para actuar sobre sequencias de vectores. Keras incluye una [Convolución en 1D](https://keras.io/layers/convolutional/#conv1d) que puede ser utilizada en este caso, con un ejemplo de uso en la documentación. Una forma de hacer funcionar este esquema sería utilizar la convolución en 1D + max pooling.\n",
    "*  Utilizar una **RNN** sobre una secuencia de word vectors, al estilo de lo visto en el vídeo *Clasificación de texto con RNN*. Para este problema es un poco complicado conseguir un buen modelo con RNNs, y además es más difícil experimentar ya que las redes recurrentes son modelos lentos de entrenar. Por eso, es suficiente con alcanzar un 55% de accuracy si optamos por utilizar un modelo de este estilo. Un buen consejo es emplear una red recurrente bidireccional como se ve en el vídeo *Clasificación de texto con RNN*.\n",
    "\n",
    "\n",
    "\n",
    "---\n",
    "\n",
    "Dos hiperparámetros importantes a elegir en el modelo son la **longitud de las secuencias de texto** y el **tamaño del vocabulario** para los embeddings. Podéis experimentar con ambos, o utilizar los mismos que se usan en los vídeos. Nótese que, al cortar todas las secuencias para que tengan el mismo tamaño, podríamos estar perdiendo mucho texto si elegimos un tamaño de secuencia demasiado pequeño. Igualmente, si las hacemos muy largas necesitaremos más tiempo para entrenar nuestros modelos. Una buena idea consiste en explorar los datos para ver cómo suelen ser de largos los textos y encontrar un buen trade-off para el tamaño de al secuencia.\n",
    "\n",
    "\n",
    "\n",
    "---\n",
    "\n",
    "Los embeddings que hemos visto en los vídeos se entrenan junto al modelo.  Una técnica frecuente es inicializar estos embeddings con word-vectors pre-entrenados en un gran corpus de texto, como hemos visto en clase. Esto puede ayudar ya que nuestro modelo empieza con unos embeddings que ya encapsulan significado. Si bien no es necesario para esta práctica, podéis ver cómo usar esta técnica [en el siguiente tutorial](https://blog.keras.io/using-pre-trained-word-embeddings-in-a-keras-model.html).\n",
    "\n",
    "\n"
   ]
  },
  {
   "cell_type": "markdown",
   "metadata": {},
   "source": [
    "## Inicializamos el entorno"
   ]
  },
  {
   "cell_type": "code",
   "execution_count": 226,
   "metadata": {
    "colab": {},
    "colab_type": "code",
    "id": "2ew7HTbPpCJH"
   },
   "outputs": [
    {
     "name": "stdout",
     "output_type": "stream",
     "text": [
      "1.8.0\n"
     ]
    }
   ],
   "source": [
    "## Tu código\n",
    "import tensorflow as tf\n",
    "from tensorflow import keras\n",
    "\n",
    "import numpy as np\n",
    "\n",
    "print(tf.__version__)"
   ]
  },
  {
   "cell_type": "markdown",
   "metadata": {},
   "source": [
    "## Descargamos el dataset"
   ]
  },
  {
   "cell_type": "markdown",
   "metadata": {},
   "source": [
    "Dataset of 11,228 newswires from Reuters, labeled over 46 topics. As with the IMDB dataset, each wire is encoded as a sequence of word indexes (same conventions)."
   ]
  },
  {
   "cell_type": "code",
   "execution_count": 227,
   "metadata": {},
   "outputs": [],
   "source": [
    "from keras.datasets import reuters\n",
    "max_words=10000\n",
    "(x_train, y_train), (x_test, y_test) = reuters.load_data(path=\"reuters.npz\",\n",
    "                                                         num_words=max_words,\n",
    "                                                         skip_top=0,\n",
    "                                                         maxlen=None,\n",
    "                                                         test_split=0.2,\n",
    "                                                         seed=113,# Para shuffle\n",
    "                                                         start_char=1,\n",
    "                                                         oov_char=2,\n",
    "                                                         index_from=3)"
   ]
  },
  {
   "cell_type": "code",
   "execution_count": 228,
   "metadata": {},
   "outputs": [
    {
     "name": "stdout",
     "output_type": "stream",
     "text": [
      "Training entries: 8982, labels: 8982\n",
      "Test entries: 2246, labels: 2246\n"
     ]
    }
   ],
   "source": [
    "print(\"Training entries: {}, labels: {}\".format(len(x_train), len(y_train)))\n",
    "print(\"Test entries: {}, labels: {}\".format(len(x_test), len(y_test)))"
   ]
  },
  {
   "cell_type": "markdown",
   "metadata": {},
   "source": [
    "En este caso se ha metido un valor por defecto \"test_split=0.2\" para separar el conjunto en un 80% de datos de entrenamiento y un 20% de datos de test. Como en la lección magistral, cada elemento del dataset es un vector de índices (Siendo cada índice una palabra), por lo que tenemos que descargarnos el diccionario de vectores que nos dirá a que palabra se corresponde cada índice.."
   ]
  },
  {
   "cell_type": "markdown",
   "metadata": {},
   "source": [
    "### Descargamos el diccionario de índices de palabras"
   ]
  },
  {
   "cell_type": "code",
   "execution_count": 229,
   "metadata": {},
   "outputs": [
    {
     "name": "stdout",
     "output_type": "stream",
     "text": [
      "<class 'dict'>\n",
      "23568\n"
     ]
    }
   ],
   "source": [
    "word_index = reuters.get_word_index(path=\"reuters_word_index.json\")\n",
    "print(type(word_index))\n",
    "print(word_index[max(word_index)])"
   ]
  },
  {
   "cell_type": "markdown",
   "metadata": {},
   "source": [
    "Los primeros indices están reservados para estructuras y separación de textos:"
   ]
  },
  {
   "cell_type": "code",
   "execution_count": 230,
   "metadata": {},
   "outputs": [],
   "source": [
    "# The first indices are reserved\n",
    "word_index = {k:(v+3) for k,v in word_index.items()} \n",
    "word_index[\"<PAD>\"] = 0\n",
    "word_index[\"<START>\"] = 1\n",
    "word_index[\"<UNK>\"] = 2  # unknown\n",
    "word_index[\"<UNUSED>\"] = 3\n",
    "\n",
    "reverse_word_index = dict([(value, key) for (key, value) in word_index.items()])"
   ]
  },
  {
   "cell_type": "markdown",
   "metadata": {},
   "source": [
    "### Comprobamos los datos descargados"
   ]
  },
  {
   "cell_type": "code",
   "execution_count": 231,
   "metadata": {},
   "outputs": [
    {
     "name": "stdout",
     "output_type": "stream",
     "text": [
      "[1, 2, 2, 8, 43, 10, 447, 5, 25, 207, 270, 5, 3095, 111, 16, 369, 186, 90, 67, 7, 89, 5, 19, 102, 6, 19, 124, 15, 90, 67, 84, 22, 482, 26, 7, 48, 4, 49, 8, 864, 39, 209, 154, 6, 151, 6, 83, 11, 15, 22, 155, 11, 15, 7, 48, 9, 4579, 1005, 504, 6, 258, 6, 272, 11, 15, 22, 134, 44, 11, 15, 16, 8, 197, 1245, 90, 67, 52, 29, 209, 30, 32, 132, 6, 109, 15, 17, 12]\n",
      "Num Classes 46\n",
      "the\n"
     ]
    }
   ],
   "source": [
    "#Imprimimos el primer valor de train\n",
    "print(x_train[0])\n",
    "\n",
    "#Imprimimos sus características\n",
    "print(\"Num Classes\", max(y_train)+1)\n",
    "\n",
    "#Imprimimos una palabra de ejemplo que se corresponda con un indice de x_train\n",
    "print(list(word_index.keys())[list(word_index.values()).index(4)])"
   ]
  },
  {
   "cell_type": "markdown",
   "metadata": {},
   "source": [
    "### Funcion decodificacion de noticias"
   ]
  },
  {
   "cell_type": "code",
   "execution_count": 232,
   "metadata": {},
   "outputs": [],
   "source": [
    "def decode_review(text):\n",
    "    return ' '.join([reverse_word_index.get(i, '?') for i in text])"
   ]
  },
  {
   "cell_type": "code",
   "execution_count": 233,
   "metadata": {},
   "outputs": [
    {
     "data": {
      "text/plain": [
       "\"<START> the farmers home administration the u s agriculture department's farm lending arm could lose about seven billion dlrs in outstanding principal on its severely <UNK> borrowers or about one fourth of its farm loan portfolio the general accounting office gao said in remarks prepared for delivery to the senate agriculture committee brian crowley senior associate director of gao also said that a preliminary analysis of proposed changes in <UNK> financial eligibility standards indicated as many as one half of <UNK> borrowers who received new loans from the agency in 1986 would be <UNK> under the proposed system the agency has proposed evaluating <UNK> credit using a variety of financial ratios instead of relying solely on <UNK> ability senate agriculture committee chairman patrick leahy d vt <UNK> the proposed eligibility changes telling <UNK> administrator <UNK> clark at a hearing that they would mark a dramatic shift in the agency's purpose away from being farmers' lender of last resort toward becoming a big city bank but clark defended the new regulations saying the agency had a responsibility to <UNK> its 70 billion dlr loan portfolio in a <UNK> yet <UNK> manner crowley of gao <UNK> <UNK> arm said the proposed credit <UNK> system attempted to ensure that <UNK> would make loans only to borrowers who had a reasonable change of repaying their debt reuter 3\""
      ]
     },
     "execution_count": 233,
     "metadata": {},
     "output_type": "execute_result"
    }
   ],
   "source": [
    "decode_review(x_train[3])"
   ]
  },
  {
   "cell_type": "markdown",
   "metadata": {},
   "source": [
    "### Preprocesado de datos de train y test"
   ]
  },
  {
   "cell_type": "markdown",
   "metadata": {},
   "source": [
    "Como las noticias tienen longitudes distintas, hay que definir un tamaño X para todas. Las que sean mayores, se recortarán, y las que sean menores, se rellenarán con el token de padding."
   ]
  },
  {
   "cell_type": "code",
   "execution_count": 234,
   "metadata": {},
   "outputs": [
    {
     "name": "stdout",
     "output_type": "stream",
     "text": [
      "87\n",
      "145\n",
      "0\n"
     ]
    }
   ],
   "source": [
    "print(len(x_train[0]))\n",
    "print(len(x_test[0]))\n",
    "print(word_index[\"<PAD>\"])"
   ]
  },
  {
   "cell_type": "code",
   "execution_count": 235,
   "metadata": {},
   "outputs": [],
   "source": [
    "x_train = keras.preprocessing.sequence.pad_sequences(x_train,\n",
    "                                                        value=word_index[\"<PAD>\"],\n",
    "                                                        padding='post',\n",
    "                                                        maxlen=256)\n",
    "\n",
    "x_test = keras.preprocessing.sequence.pad_sequences(x_test,\n",
    "                                                       value=word_index[\"<PAD>\"],\n",
    "                                                       padding='post',\n",
    "                                                       maxlen=256)"
   ]
  },
  {
   "cell_type": "code",
   "execution_count": 236,
   "metadata": {},
   "outputs": [
    {
     "name": "stdout",
     "output_type": "stream",
     "text": [
      "256\n",
      "256\n"
     ]
    }
   ],
   "source": [
    "print(len(x_train[0]))\n",
    "print(len(x_test[0]))"
   ]
  },
  {
   "cell_type": "code",
   "execution_count": 237,
   "metadata": {},
   "outputs": [
    {
     "name": "stdout",
     "output_type": "stream",
     "text": [
      "Convert class vector to binary class matrix (for use with categorical_crossentropy)\n",
      "y_train shape: (8982, 46)\n",
      "y_test shape: (2246, 46)\n"
     ]
    }
   ],
   "source": [
    "print('Convert class vector to binary class matrix '\n",
    "      '(for use with categorical_crossentropy)')\n",
    "y_train = keras.utils.to_categorical(y_train, num_classes)\n",
    "y_test = keras.utils.to_categorical(y_test, num_classes)\n",
    "print('y_train shape:', y_train.shape)\n",
    "print('y_test shape:', y_test.shape)"
   ]
  },
  {
   "cell_type": "markdown",
   "metadata": {},
   "source": [
    "## Definimos un modelo de entrenamiento embedded"
   ]
  },
  {
   "cell_type": "code",
   "execution_count": 238,
   "metadata": {},
   "outputs": [],
   "source": [
    "from __future__ import print_function\n",
    "\n",
    "import numpy as np\n",
    "import keras\n",
    "from keras.datasets import reuters\n",
    "from keras.models import Sequential\n",
    "from keras.layers import Dense, Dropout, Activation, Embedding, GlobalAveragePooling1D\n",
    "from keras.preprocessing.text import Tokenizer"
   ]
  },
  {
   "cell_type": "markdown",
   "metadata": {},
   "source": [
    "### Parametros del modelo"
   ]
  },
  {
   "cell_type": "code",
   "execution_count": 268,
   "metadata": {},
   "outputs": [],
   "source": [
    "batch_size = 32\n",
    "epochs = 40\n",
    "num_classes = y_test.shape[1]"
   ]
  },
  {
   "cell_type": "code",
   "execution_count": 269,
   "metadata": {},
   "outputs": [],
   "source": [
    "def embedding_model():\n",
    "    print('Building model...')\n",
    "    model = Sequential()\n",
    "    model.add(Embedding(max_words, 16))\n",
    "    model.add(GlobalAveragePooling1D())\n",
    "    model.add(Dense(16, activation = \"relu\"))\n",
    "    model.add(Dropout(0.5))\n",
    "    model.add(Dense(num_classes, activation = \"softmax\"))\n",
    "    model.summary()\n",
    "    return model"
   ]
  },
  {
   "cell_type": "code",
   "execution_count": 270,
   "metadata": {},
   "outputs": [
    {
     "name": "stdout",
     "output_type": "stream",
     "text": [
      "Building model...\n",
      "_________________________________________________________________\n",
      "Layer (type)                 Output Shape              Param #   \n",
      "=================================================================\n",
      "embedding_12 (Embedding)     (None, None, 16)          160000    \n",
      "_________________________________________________________________\n",
      "global_average_pooling1d_12  (None, 16)                0         \n",
      "_________________________________________________________________\n",
      "dense_31 (Dense)             (None, 16)                272       \n",
      "_________________________________________________________________\n",
      "dropout_16 (Dropout)         (None, 16)                0         \n",
      "_________________________________________________________________\n",
      "dense_32 (Dense)             (None, 46)                782       \n",
      "=================================================================\n",
      "Total params: 161,054\n",
      "Trainable params: 161,054\n",
      "Non-trainable params: 0\n",
      "_________________________________________________________________\n"
     ]
    }
   ],
   "source": [
    "model = embedding_model()\n",
    "model.compile(loss='categorical_crossentropy',\n",
    "              optimizer='adam',\n",
    "              metrics=['accuracy'])"
   ]
  },
  {
   "cell_type": "code",
   "execution_count": 271,
   "metadata": {},
   "outputs": [],
   "source": [
    "x_val = x_train[6982:]\n",
    "x_train_partial = x_train[:6982]\n",
    "\n",
    "y_val = y_train[6982:]\n",
    "y_train_partial = y_train[:6982]"
   ]
  },
  {
   "cell_type": "code",
   "execution_count": 272,
   "metadata": {},
   "outputs": [
    {
     "name": "stdout",
     "output_type": "stream",
     "text": [
      "Train on 6982 samples, validate on 2000 samples\n",
      "Epoch 1/40\n",
      "6982/6982 [==============================] - 2s 236us/step - loss: 3.0549 - acc: 0.3276 - val_loss: 2.2947 - val_acc: 0.3465\n",
      "Epoch 2/40\n",
      "6982/6982 [==============================] - 1s 161us/step - loss: 2.4053 - acc: 0.3400 - val_loss: 2.2022 - val_acc: 0.3475\n",
      "Epoch 3/40\n",
      "6982/6982 [==============================] - 1s 161us/step - loss: 2.2717 - acc: 0.3728 - val_loss: 2.0702 - val_acc: 0.3760\n",
      "Epoch 4/40\n",
      "6982/6982 [==============================] - 1s 183us/step - loss: 2.1440 - acc: 0.4098 - val_loss: 1.9346 - val_acc: 0.4505\n",
      "Epoch 5/40\n",
      "6982/6982 [==============================] - 2s 217us/step - loss: 2.0104 - acc: 0.4546 - val_loss: 1.8308 - val_acc: 0.5115\n",
      "Epoch 6/40\n",
      "6982/6982 [==============================] - 1s 152us/step - loss: 1.9176 - acc: 0.4890 - val_loss: 1.7597 - val_acc: 0.5535\n",
      "Epoch 7/40\n",
      "6982/6982 [==============================] - 1s 155us/step - loss: 1.8527 - acc: 0.5097 - val_loss: 1.7079 - val_acc: 0.5580\n",
      "Epoch 8/40\n",
      "6982/6982 [==============================] - 1s 158us/step - loss: 1.8131 - acc: 0.5261 - val_loss: 1.6749 - val_acc: 0.5640\n",
      "Epoch 9/40\n",
      "6982/6982 [==============================] - 1s 154us/step - loss: 1.7622 - acc: 0.5319 - val_loss: 1.6411 - val_acc: 0.5700\n",
      "Epoch 10/40\n",
      "6982/6982 [==============================] - 1s 158us/step - loss: 1.7423 - acc: 0.5385 - val_loss: 1.6160 - val_acc: 0.5715\n",
      "Epoch 11/40\n",
      "6982/6982 [==============================] - 1s 188us/step - loss: 1.7111 - acc: 0.5464 - val_loss: 1.5985 - val_acc: 0.5780\n",
      "Epoch 12/40\n",
      "6982/6982 [==============================] - 1s 177us/step - loss: 1.6703 - acc: 0.5567 - val_loss: 1.5825 - val_acc: 0.5785\n",
      "Epoch 13/40\n",
      "6982/6982 [==============================] - 1s 200us/step - loss: 1.6570 - acc: 0.5636 - val_loss: 1.5621 - val_acc: 0.5815\n",
      "Epoch 14/40\n",
      "6982/6982 [==============================] - 1s 164us/step - loss: 1.6269 - acc: 0.5672 - val_loss: 1.5478 - val_acc: 0.5945\n",
      "Epoch 15/40\n",
      "6982/6982 [==============================] - 1s 161us/step - loss: 1.6083 - acc: 0.5761 - val_loss: 1.5345 - val_acc: 0.5895\n",
      "Epoch 16/40\n",
      "6982/6982 [==============================] - 1s 160us/step - loss: 1.5754 - acc: 0.5799 - val_loss: 1.5215 - val_acc: 0.5980\n",
      "Epoch 17/40\n",
      "6982/6982 [==============================] - 1s 160us/step - loss: 1.5578 - acc: 0.5898 - val_loss: 1.5089 - val_acc: 0.6140\n",
      "Epoch 18/40\n",
      "6982/6982 [==============================] - 1s 164us/step - loss: 1.5365 - acc: 0.5931 - val_loss: 1.5004 - val_acc: 0.6105\n",
      "Epoch 19/40\n",
      "6982/6982 [==============================] - 1s 189us/step - loss: 1.5115 - acc: 0.6057 - val_loss: 1.4892 - val_acc: 0.6245\n",
      "Epoch 20/40\n",
      "6982/6982 [==============================] - 1s 189us/step - loss: 1.4934 - acc: 0.6066 - val_loss: 1.4781 - val_acc: 0.6270\n",
      "Epoch 21/40\n",
      "6982/6982 [==============================] - 1s 163us/step - loss: 1.4691 - acc: 0.6182 - val_loss: 1.4707 - val_acc: 0.6350\n",
      "Epoch 22/40\n",
      "6982/6982 [==============================] - 1s 163us/step - loss: 1.4477 - acc: 0.6230 - val_loss: 1.4645 - val_acc: 0.6305\n",
      "Epoch 23/40\n",
      "6982/6982 [==============================] - 1s 161us/step - loss: 1.4331 - acc: 0.6292 - val_loss: 1.4498 - val_acc: 0.6455\n",
      "Epoch 24/40\n",
      "6982/6982 [==============================] - 1s 162us/step - loss: 1.4142 - acc: 0.6335 - val_loss: 1.4418 - val_acc: 0.6460\n",
      "Epoch 25/40\n",
      "6982/6982 [==============================] - 1s 178us/step - loss: 1.3851 - acc: 0.6409 - val_loss: 1.4379 - val_acc: 0.6485\n",
      "Epoch 26/40\n",
      "6982/6982 [==============================] - 1s 162us/step - loss: 1.3745 - acc: 0.6428 - val_loss: 1.4272 - val_acc: 0.6595\n",
      "Epoch 27/40\n",
      "6982/6982 [==============================] - 1s 184us/step - loss: 1.3447 - acc: 0.6524 - val_loss: 1.4212 - val_acc: 0.6580\n",
      "Epoch 28/40\n",
      "6982/6982 [==============================] - 1s 161us/step - loss: 1.3360 - acc: 0.6505 - val_loss: 1.4126 - val_acc: 0.6580\n",
      "Epoch 29/40\n",
      "6982/6982 [==============================] - 1s 162us/step - loss: 1.3208 - acc: 0.6607 - val_loss: 1.4091 - val_acc: 0.6595\n",
      "Epoch 30/40\n",
      "6982/6982 [==============================] - 1s 162us/step - loss: 1.3043 - acc: 0.6603 - val_loss: 1.4013 - val_acc: 0.6650\n",
      "Epoch 31/40\n",
      "6982/6982 [==============================] - 1s 160us/step - loss: 1.2738 - acc: 0.6654 - val_loss: 1.3928 - val_acc: 0.6670\n",
      "Epoch 32/40\n",
      "6982/6982 [==============================] - 1s 178us/step - loss: 1.2615 - acc: 0.6651 - val_loss: 1.3880 - val_acc: 0.6665\n",
      "Epoch 33/40\n",
      "6982/6982 [==============================] - 1s 162us/step - loss: 1.2471 - acc: 0.6669 - val_loss: 1.3919 - val_acc: 0.6680\n",
      "Epoch 34/40\n",
      "6982/6982 [==============================] - 1s 166us/step - loss: 1.2297 - acc: 0.6707 - val_loss: 1.3843 - val_acc: 0.6715\n",
      "Epoch 35/40\n",
      "6982/6982 [==============================] - 1s 163us/step - loss: 1.2078 - acc: 0.6759 - val_loss: 1.3783 - val_acc: 0.6735\n",
      "Epoch 36/40\n",
      "6982/6982 [==============================] - 1s 178us/step - loss: 1.2017 - acc: 0.6724 - val_loss: 1.3855 - val_acc: 0.6735\n",
      "Epoch 37/40\n",
      "6982/6982 [==============================] - 1s 156us/step - loss: 1.1852 - acc: 0.6743 - val_loss: 1.3757 - val_acc: 0.6765\n",
      "Epoch 38/40\n",
      "6982/6982 [==============================] - 1s 180us/step - loss: 1.1629 - acc: 0.6820 - val_loss: 1.3860 - val_acc: 0.6750\n",
      "Epoch 39/40\n",
      "6982/6982 [==============================] - 1s 164us/step - loss: 1.1552 - acc: 0.6802 - val_loss: 1.3832 - val_acc: 0.6790\n",
      "Epoch 40/40\n",
      "6982/6982 [==============================] - 1s 161us/step - loss: 1.1423 - acc: 0.6820 - val_loss: 1.3856 - val_acc: 0.6830\n"
     ]
    }
   ],
   "source": [
    "history = model.fit(x_train_partial, y_train_partial,\n",
    "                    batch_size=batch_size,\n",
    "                    epochs=epochs,\n",
    "                    validation_data=(x_val, y_val),\n",
    "                    verbose=1)"
   ]
  },
  {
   "cell_type": "code",
   "execution_count": 273,
   "metadata": {},
   "outputs": [
    {
     "name": "stdout",
     "output_type": "stream",
     "text": [
      "2246/2246 [==============================] - 0s 35us/step\n",
      "Test loss score: 1.4485790442910877\n",
      "Test accuracy: 0.6691896705784547\n"
     ]
    }
   ],
   "source": [
    "score = model.evaluate(x_test, y_test,\n",
    "                       batch_size=batch_size, verbose=1)\n",
    "print('Test loss score:', score[0])\n",
    "print('Test accuracy:', score[1])"
   ]
  },
  {
   "cell_type": "code",
   "execution_count": 274,
   "metadata": {},
   "outputs": [],
   "source": [
    "history_dict = history.history"
   ]
  },
  {
   "cell_type": "code",
   "execution_count": 275,
   "metadata": {},
   "outputs": [
    {
     "data": {
      "text/plain": [
       "dict_keys(['val_loss', 'val_acc', 'loss', 'acc'])"
      ]
     },
     "execution_count": 275,
     "metadata": {},
     "output_type": "execute_result"
    }
   ],
   "source": [
    "history_dict.keys()"
   ]
  },
  {
   "cell_type": "code",
   "execution_count": 276,
   "metadata": {},
   "outputs": [
    {
     "data": {
      "text/plain": [
       "[3.054910019590738,\n",
       " 2.4052738325194962,\n",
       " 2.2716722639335734,\n",
       " 2.144000311766542,\n",
       " 2.010384566802345,\n",
       " 1.917632476438666,\n",
       " 1.8526766104194163,\n",
       " 1.813072812622101,\n",
       " 1.7621630895653415,\n",
       " 1.7423163242648783,\n",
       " 1.7111292634232957,\n",
       " 1.6702946253746227,\n",
       " 1.656994476321091,\n",
       " 1.6269197225638974,\n",
       " 1.6083405570702511,\n",
       " 1.5754384607272993,\n",
       " 1.5578364855032258,\n",
       " 1.536486671480399,\n",
       " 1.511497201772038,\n",
       " 1.493424257928886,\n",
       " 1.4690554199366268,\n",
       " 1.4477134845346271,\n",
       " 1.4330856204203637,\n",
       " 1.4142076321793504,\n",
       " 1.3851356713879726,\n",
       " 1.374482759190507,\n",
       " 1.344668286504393,\n",
       " 1.3360469196150755,\n",
       " 1.3208202467166876,\n",
       " 1.3042988476661719,\n",
       " 1.273841290103778,\n",
       " 1.261492761319908,\n",
       " 1.2471315592006638,\n",
       " 1.2297380665304907,\n",
       " 1.2078281705203968,\n",
       " 1.2017097054494892,\n",
       " 1.1852479195465027,\n",
       " 1.1629116337472134,\n",
       " 1.1551915339910004,\n",
       " 1.1422674953339949]"
      ]
     },
     "execution_count": 276,
     "metadata": {},
     "output_type": "execute_result"
    }
   ],
   "source": [
    "history_dict['loss']"
   ]
  },
  {
   "cell_type": "code",
   "execution_count": 277,
   "metadata": {},
   "outputs": [
    {
     "data": {
      "image/png": "[encoded data removed]",
      "text/plain": [
       "<Figure size 432x288 with 1 Axes>"
      ]
     },
     "metadata": {
      "needs_background": "light"
     },
     "output_type": "display_data"
    }
   ],
   "source": [
    "import matplotlib.pyplot as plt\n",
    "\n",
    "acc = history.history['acc']\n",
    "val_acc = history.history['val_acc']\n",
    "loss = history.history['loss']\n",
    "val_loss = history.history['val_loss']\n",
    "\n",
    "epochs = range(1, len(acc) + 1)\n",
    "\n",
    "# \"bo\" is for \"blue dot\"\n",
    "plt.plot(epochs, loss, 'bo', label='Training loss')\n",
    "# b is for \"solid blue line\"\n",
    "plt.plot(epochs, val_loss, 'b', label='Validation loss')\n",
    "plt.title('Training and validation loss')\n",
    "plt.xlabel('Epochs')\n",
    "plt.ylabel('Loss')\n",
    "plt.legend()\n",
    "\n",
    "plt.show()"
   ]
  },
  {
   "cell_type": "code",
   "execution_count": 278,
   "metadata": {},
   "outputs": [
    {
     "data": {
      "image/png": "[encoded data removed]",
      "text/plain": [
       "<Figure size 432x288 with 1 Axes>"
      ]
     },
     "metadata": {
      "needs_background": "light"
     },
     "output_type": "display_data"
    }
   ],
   "source": [
    "plt.clf()   # clear figure\n",
    "acc_values = history_dict['acc']\n",
    "val_acc_values = history_dict['val_acc']\n",
    "\n",
    "plt.plot(epochs, acc, 'bo', label='Training acc')\n",
    "plt.plot(epochs, val_acc, 'b', label='Validation acc')\n",
    "plt.title('Training and validation accuracy')\n",
    "plt.xlabel('Epochs')\n",
    "plt.ylabel('Accuracy')\n",
    "plt.legend()\n",
    "\n",
    "plt.show()"
   ]
  },
  {
   "cell_type": "code",
   "execution_count": null,
   "metadata": {},
   "outputs": [],
   "source": []
  }
 ],
 "metadata": {
  "accelerator": "GPU",
  "colab": {
   "collapsed_sections": [],
   "name": "Trabajo 3",
   "provenance": [],
   "version": "0.3.2"
  },
  "kernelspec": {
   "display_name": "Python 3",
   "language": "python",
   "name": "python3"
  },
  "language_info": {
   "codemirror_mode": {
    "name": "ipython",
    "version": 3
   },
   "file_extension": ".py",
   "mimetype": "text/x-python",
   "name": "python",
   "nbconvert_exporter": "python",
   "pygments_lexer": "ipython3",
   "version": "3.6.6"
  },
  "toc": {
   "base_numbering": 1,
   "nav_menu": {},
   "number_sections": true,
   "sideBar": true,
   "skip_h1_title": false,
   "title_cell": "Table of Contents",
   "title_sidebar": "Contents",
   "toc_cell": false,
   "toc_position": {
    "height": "calc(100% - 180px)",
    "left": "10px",
    "top": "150px",
    "width": "165px"
   },
   "toc_section_display": true,
   "toc_window_display": true
  }
 },
 "nbformat": 4,
 "nbformat_minor": 1
}
