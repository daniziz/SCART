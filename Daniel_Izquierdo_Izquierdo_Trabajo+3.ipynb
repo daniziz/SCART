{
 "cells": [
  {
   "cell_type": "markdown",
   "metadata": {
    "colab_type": "text",
    "id": "Ic4_occAAiAT"
   },
   "source": [
    "# Word Vectors"
   ]
  },
  {
   "cell_type": "markdown",
   "metadata": {
    "colab_type": "text",
    "id": "Eg62Pmz3o83v"
   },
   "source": [
    "En este trabajo, utilizaremos **embeddings** para resolver un problema de clasificación de texto. Los embeddings, representaciones distribuidas y vectoriales de elementos, son un concepto muy común en el mundo del deep learning. Los **word vectors** que hemos visto en clase son una representación en forma de embedding de las palabras.\n",
    "\n",
    "Para realizar este trabajo y sacarle el máximo partido, se recomienda ver los siguientes vídeos de clase:\n",
    "\n",
    "*   Clasificación de texto con Word Vectors.\n",
    "*   Análisis de overfitting con un modelo bag of words.\n",
    "*   Clasificación de texto con RNN\n",
    "\n",
    "Vamos a utilizar el dataset **\"Reuters newswire topics classification\"**, disponible desde Keras de manera similar al dataset de IMDB ([ver documentación](https://keras.io/datasets/#reuters-newswire-topics-classification)).\n",
    "\n",
    "---\n",
    "\n",
    "Se pide:\n",
    "\n",
    "Entrenar un modelo **utilizando embeddings** que consiga un **65% de accuracy en test (55% si usamos RNNs)**, mostrando el entrenamiento y el resultado final.\n",
    " \n",
    "Tenemos varias opciones para entrenar modelos con embeddings. El alumno puede explorar más de una pero es suficiente con conseguir un modelo que alcance la accuracy requerida:\n",
    "\n",
    "*   Utilizar una **media de embeddings** al estilo de lo visto en el vídeo *Clasificación de texto con Word Vectors*\n",
    "*   Utilizar una **CNN** sobre una secuencia de word vectors. Aquí necesitamos cambiar un poco la idea de convolución para actuar sobre sequencias de vectores. Keras incluye una [Convolución en 1D](https://keras.io/layers/convolutional/#conv1d) que puede ser utilizada en este caso, con un ejemplo de uso en la documentación. Una forma de hacer funcionar este esquema sería utilizar la convolución en 1D + max pooling.\n",
    "*  Utilizar una **RNN** sobre una secuencia de word vectors, al estilo de lo visto en el vídeo *Clasificación de texto con RNN*. Para este problema es un poco complicado conseguir un buen modelo con RNNs, y además es más difícil experimentar ya que las redes recurrentes son modelos lentos de entrenar. Por eso, es suficiente con alcanzar un 55% de accuracy si optamos por utilizar un modelo de este estilo. Un buen consejo es emplear una red recurrente bidireccional como se ve en el vídeo *Clasificación de texto con RNN*.\n",
    "\n",
    "\n",
    "\n",
    "---\n",
    "\n",
    "Dos hiperparámetros importantes a elegir en el modelo son la **longitud de las secuencias de texto** y el **tamaño del vocabulario** para los embeddings. Podéis experimentar con ambos, o utilizar los mismos que se usan en los vídeos. Nótese que, al cortar todas las secuencias para que tengan el mismo tamaño, podríamos estar perdiendo mucho texto si elegimos un tamaño de secuencia demasiado pequeño. Igualmente, si las hacemos muy largas necesitaremos más tiempo para entrenar nuestros modelos. Una buena idea consiste en explorar los datos para ver cómo suelen ser de largos los textos y encontrar un buen trade-off para el tamaño de al secuencia.\n",
    "\n",
    "\n",
    "\n",
    "---\n",
    "\n",
    "Los embeddings que hemos visto en los vídeos se entrenan junto al modelo.  Una técnica frecuente es inicializar estos embeddings con word-vectors pre-entrenados en un gran corpus de texto, como hemos visto en clase. Esto puede ayudar ya que nuestro modelo empieza con unos embeddings que ya encapsulan significado. Si bien no es necesario para esta práctica, podéis ver cómo usar esta técnica [en el siguiente tutorial](https://blog.keras.io/using-pre-trained-word-embeddings-in-a-keras-model.html).\n",
    "\n",
    "\n"
   ]
  },
  {
   "cell_type": "markdown",
   "metadata": {},
   "source": [
    "## Inicializamos el entorno"
   ]
  },
  {
   "cell_type": "code",
   "execution_count": 116,
   "metadata": {
    "colab": {},
    "colab_type": "code",
    "id": "2ew7HTbPpCJH"
   },
   "outputs": [
    {
     "name": "stdout",
     "output_type": "stream",
     "text": [
      "1.12.0-rc2\n"
     ]
    }
   ],
   "source": [
    "## Tu código\n",
    "import tensorflow as tf\n",
    "from tensorflow import keras\n",
    "\n",
    "import numpy as np\n",
    "\n",
    "print(tf.__version__)"
   ]
  },
  {
   "cell_type": "markdown",
   "metadata": {},
   "source": [
    "## Descargamos el dataset"
   ]
  },
  {
   "cell_type": "markdown",
   "metadata": {},
   "source": [
    "Dataset of 11,228 newswires from Reuters, labeled over 46 topics. As with the IMDB dataset, each wire is encoded as a sequence of word indexes (same conventions)."
   ]
  },
  {
   "cell_type": "code",
   "execution_count": 117,
   "metadata": {},
   "outputs": [],
   "source": [
    "from keras.datasets import reuters\n",
    "max_words=10000\n",
    "(x_train, y_train), (x_test, y_test) = reuters.load_data(path=\"reuters.npz\",\n",
    "                                                         num_words=max_words,\n",
    "                                                         skip_top=0,\n",
    "                                                         maxlen=None,\n",
    "                                                         test_split=0.2,\n",
    "                                                         seed=113,# Para shuffle\n",
    "                                                         start_char=1,\n",
    "                                                         oov_char=2,\n",
    "                                                         index_from=3)"
   ]
  },
  {
   "cell_type": "code",
   "execution_count": 118,
   "metadata": {},
   "outputs": [
    {
     "name": "stdout",
     "output_type": "stream",
     "text": [
      "Training entries: 8982, labels: 8982\n",
      "Test entries: 2246, labels: 2246\n"
     ]
    }
   ],
   "source": [
    "print(\"Training entries: {}, labels: {}\".format(len(x_train), len(y_train)))\n",
    "print(\"Test entries: {}, labels: {}\".format(len(x_test), len(y_test)))"
   ]
  },
  {
   "cell_type": "markdown",
   "metadata": {},
   "source": [
    "En este caso se ha metido un valor por defecto \"test_split=0.2\" para separar el conjunto en un 80% de datos de entrenamiento y un 20% de datos de test. Como en la lección magistral, cada elemento del dataset es un vector de índices (Siendo cada índice una palabra), por lo que tenemos que descargarnos el diccionario de vectores que nos dirá a que palabra se corresponde cada índice.."
   ]
  },
  {
   "cell_type": "markdown",
   "metadata": {},
   "source": [
    "### Descargamos el diccionario de índices de palabras"
   ]
  },
  {
   "cell_type": "code",
   "execution_count": 119,
   "metadata": {},
   "outputs": [
    {
     "name": "stdout",
     "output_type": "stream",
     "text": [
      "<class 'dict'>\n",
      "23568\n"
     ]
    }
   ],
   "source": [
    "word_index = reuters.get_word_index(path=\"reuters_word_index.json\")\n",
    "print(type(word_index))\n",
    "print(word_index[max(word_index)])"
   ]
  },
  {
   "cell_type": "markdown",
   "metadata": {},
   "source": [
    "Los primeros indices están reservados para estructuras y separación de textos:"
   ]
  },
  {
   "cell_type": "code",
   "execution_count": 120,
   "metadata": {},
   "outputs": [],
   "source": [
    "# The first indices are reserved\n",
    "word_index = {k:(v+3) for k,v in word_index.items()} \n",
    "word_index[\"<PAD>\"] = 0\n",
    "word_index[\"<START>\"] = 1\n",
    "word_index[\"<UNK>\"] = 2  # unknown\n",
    "word_index[\"<UNUSED>\"] = 3\n",
    "\n",
    "reverse_word_index = dict([(value, key) for (key, value) in word_index.items()])"
   ]
  },
  {
   "cell_type": "markdown",
   "metadata": {},
   "source": [
    "### Comprobamos los datos descargados"
   ]
  },
  {
   "cell_type": "code",
   "execution_count": 121,
   "metadata": {},
   "outputs": [
    {
     "name": "stdout",
     "output_type": "stream",
     "text": [
      "[1, 2, 2, 8, 43, 10, 447, 5, 25, 207, 270, 5, 3095, 111, 16, 369, 186, 90, 67, 7, 89, 5, 19, 102, 6, 19, 124, 15, 90, 67, 84, 22, 482, 26, 7, 48, 4, 49, 8, 864, 39, 209, 154, 6, 151, 6, 83, 11, 15, 22, 155, 11, 15, 7, 48, 9, 4579, 1005, 504, 6, 258, 6, 272, 11, 15, 22, 134, 44, 11, 15, 16, 8, 197, 1245, 90, 67, 52, 29, 209, 30, 32, 132, 6, 109, 15, 17, 12]\n",
      "Num Classes 46\n",
      "the\n"
     ]
    }
   ],
   "source": [
    "#Imprimimos el primer valor de train\n",
    "print(x_train[0])\n",
    "\n",
    "#Imprimimos sus características\n",
    "print(\"Num Classes\", max(y_train)+1)\n",
    "\n",
    "#Imprimimos una palabra de ejemplo que se corresponda con un indice de x_train\n",
    "print(list(word_index.keys())[list(word_index.values()).index(4)])"
   ]
  },
  {
   "cell_type": "markdown",
   "metadata": {},
   "source": [
    "### Funcion decodificacion de noticias"
   ]
  },
  {
   "cell_type": "code",
   "execution_count": 122,
   "metadata": {},
   "outputs": [],
   "source": [
    "def decode_review(text):\n",
    "    return ' '.join([reverse_word_index.get(i, '?') for i in text])"
   ]
  },
  {
   "cell_type": "code",
   "execution_count": 123,
   "metadata": {},
   "outputs": [
    {
     "data": {
      "text/plain": [
       "\"<START> the farmers home administration the u s agriculture department's farm lending arm could lose about seven billion dlrs in outstanding principal on its severely <UNK> borrowers or about one fourth of its farm loan portfolio the general accounting office gao said in remarks prepared for delivery to the senate agriculture committee brian crowley senior associate director of gao also said that a preliminary analysis of proposed changes in <UNK> financial eligibility standards indicated as many as one half of <UNK> borrowers who received new loans from the agency in 1986 would be <UNK> under the proposed system the agency has proposed evaluating <UNK> credit using a variety of financial ratios instead of relying solely on <UNK> ability senate agriculture committee chairman patrick leahy d vt <UNK> the proposed eligibility changes telling <UNK> administrator <UNK> clark at a hearing that they would mark a dramatic shift in the agency's purpose away from being farmers' lender of last resort toward becoming a big city bank but clark defended the new regulations saying the agency had a responsibility to <UNK> its 70 billion dlr loan portfolio in a <UNK> yet <UNK> manner crowley of gao <UNK> <UNK> arm said the proposed credit <UNK> system attempted to ensure that <UNK> would make loans only to borrowers who had a reasonable change of repaying their debt reuter 3\""
      ]
     },
     "execution_count": 123,
     "metadata": {},
     "output_type": "execute_result"
    }
   ],
   "source": [
    "decode_review(x_train[3])"
   ]
  },
  {
   "cell_type": "markdown",
   "metadata": {},
   "source": [
    "### Preprocesado de datos de train y test"
   ]
  },
  {
   "cell_type": "markdown",
   "metadata": {},
   "source": [
    "Como las noticias tienen longitudes distintas, hay que definir un tamaño X para todas. Las que sean mayores, se recortarán, y las que sean menores, se rellenarán con el token de padding."
   ]
  },
  {
   "cell_type": "code",
   "execution_count": 124,
   "metadata": {},
   "outputs": [
    {
     "name": "stdout",
     "output_type": "stream",
     "text": [
      "87\n",
      "145\n",
      "0\n"
     ]
    }
   ],
   "source": [
    "print(len(x_train[0]))\n",
    "print(len(x_test[0]))\n",
    "print(word_index[\"<PAD>\"])"
   ]
  },
  {
   "cell_type": "code",
   "execution_count": 125,
   "metadata": {},
   "outputs": [],
   "source": [
    "x_train = keras.preprocessing.sequence.pad_sequences(x_train,\n",
    "                                                        value=word_index[\"<PAD>\"],\n",
    "                                                        padding='post',\n",
    "                                                        maxlen=256)\n",
    "\n",
    "x_test = keras.preprocessing.sequence.pad_sequences(x_test,\n",
    "                                                       value=word_index[\"<PAD>\"],\n",
    "                                                       padding='post',\n",
    "                                                       maxlen=256)"
   ]
  },
  {
   "cell_type": "code",
   "execution_count": 126,
   "metadata": {},
   "outputs": [
    {
     "name": "stdout",
     "output_type": "stream",
     "text": [
      "256\n",
      "256\n"
     ]
    }
   ],
   "source": [
    "print(len(x_train[0]))\n",
    "print(len(x_test[0]))"
   ]
  },
  {
   "cell_type": "code",
   "execution_count": 127,
   "metadata": {},
   "outputs": [
    {
     "name": "stdout",
     "output_type": "stream",
     "text": [
      "Convert class vector to binary class matrix (for use with categorical_crossentropy)\n",
      "y_train shape: (8982, 46)\n",
      "y_test shape: (2246, 46)\n"
     ]
    }
   ],
   "source": [
    "num_classes=max(y_train)+1\n",
    "print('Convert class vector to binary class matrix '\n",
    "      '(for use with categorical_crossentropy)')\n",
    "y_train = keras.utils.to_categorical(y_train, num_classes)\n",
    "y_test = keras.utils.to_categorical(y_test, num_classes)\n",
    "print('y_train shape:', y_train.shape)\n",
    "print('y_test shape:', y_test.shape)"
   ]
  },
  {
   "cell_type": "markdown",
   "metadata": {},
   "source": [
    "## Definimos un modelo de entrenamiento embedded"
   ]
  },
  {
   "cell_type": "code",
   "execution_count": 128,
   "metadata": {},
   "outputs": [],
   "source": [
    "from __future__ import print_function\n",
    "\n",
    "import numpy as np\n",
    "import keras\n",
    "from keras.datasets import reuters\n",
    "from keras.models import Sequential\n",
    "from keras.layers import Dense, Dropout, Activation, Embedding, GlobalAveragePooling1D\n",
    "from keras.preprocessing.text import Tokenizer"
   ]
  },
  {
   "cell_type": "markdown",
   "metadata": {},
   "source": [
    "### Parametros del modelo"
   ]
  },
  {
   "cell_type": "code",
   "execution_count": 129,
   "metadata": {},
   "outputs": [],
   "source": [
    "batch_size = 32\n",
    "epochs = 40"
   ]
  },
  {
   "cell_type": "markdown",
   "metadata": {},
   "source": [
    "#### Split de datos de entrada"
   ]
  },
  {
   "cell_type": "code",
   "execution_count": 130,
   "metadata": {},
   "outputs": [],
   "source": [
    "x_val = x_train[6982:]\n",
    "x_train_partial = x_train[:6982]\n",
    "\n",
    "y_val = y_train[6982:]\n",
    "y_train_partial = y_train[:6982]"
   ]
  },
  {
   "cell_type": "markdown",
   "metadata": {},
   "source": [
    "### Definicion del modelo"
   ]
  },
  {
   "cell_type": "code",
   "execution_count": 131,
   "metadata": {},
   "outputs": [],
   "source": [
    "def embedding_model():\n",
    "    print('Building model...')\n",
    "    model = Sequential()\n",
    "    model.add(Embedding(max_words, 16))\n",
    "    model.add(GlobalAveragePooling1D())\n",
    "    model.add(Dense(16, activation = \"relu\"))\n",
    "    model.add(Dropout(0.5))\n",
    "    model.add(Dense(num_classes, activation = \"softmax\"))\n",
    "    model.summary()\n",
    "    return model"
   ]
  },
  {
   "cell_type": "code",
   "execution_count": 132,
   "metadata": {},
   "outputs": [
    {
     "name": "stdout",
     "output_type": "stream",
     "text": [
      "Building model...\n",
      "_________________________________________________________________\n",
      "Layer (type)                 Output Shape              Param #   \n",
      "=================================================================\n",
      "embedding_7 (Embedding)      (None, None, 16)          160000    \n",
      "_________________________________________________________________\n",
      "global_average_pooling1d_7 ( (None, 16)                0         \n",
      "_________________________________________________________________\n",
      "dense_19 (Dense)             (None, 16)                272       \n",
      "_________________________________________________________________\n",
      "dropout_11 (Dropout)         (None, 16)                0         \n",
      "_________________________________________________________________\n",
      "dense_20 (Dense)             (None, 46)                782       \n",
      "=================================================================\n",
      "Total params: 161,054\n",
      "Trainable params: 161,054\n",
      "Non-trainable params: 0\n",
      "_________________________________________________________________\n"
     ]
    }
   ],
   "source": [
    "model = embedding_model()\n",
    "model.compile(loss='categorical_crossentropy',\n",
    "              optimizer='adam',\n",
    "              metrics=['accuracy'])"
   ]
  },
  {
   "cell_type": "code",
   "execution_count": 133,
   "metadata": {},
   "outputs": [
    {
     "name": "stdout",
     "output_type": "stream",
     "text": [
      "Train on 6982 samples, validate on 2000 samples\n",
      "Epoch 1/150\n",
      "6982/6982 [==============================] - 1s 93us/step - loss: 3.1343 - acc: 0.2557 - val_loss: 2.2914 - val_acc: 0.3465\n",
      "Epoch 2/150\n",
      "6982/6982 [==============================] - 0s 55us/step - loss: 2.4029 - acc: 0.3394 - val_loss: 2.1933 - val_acc: 0.3595\n",
      "Epoch 3/150\n",
      "6982/6982 [==============================] - 0s 54us/step - loss: 2.2800 - acc: 0.3725 - val_loss: 2.0796 - val_acc: 0.3790\n",
      "Epoch 4/150\n",
      "6982/6982 [==============================] - 0s 54us/step - loss: 2.1625 - acc: 0.3910 - val_loss: 1.9644 - val_acc: 0.3985\n",
      "Epoch 5/150\n",
      "6982/6982 [==============================] - 0s 55us/step - loss: 2.0497 - acc: 0.4242 - val_loss: 1.8661 - val_acc: 0.4555\n",
      "Epoch 6/150\n",
      "6982/6982 [==============================] - 0s 55us/step - loss: 1.9702 - acc: 0.4513 - val_loss: 1.7987 - val_acc: 0.4960\n",
      "Epoch 7/150\n",
      "6982/6982 [==============================] - 0s 55us/step - loss: 1.9053 - acc: 0.4704 - val_loss: 1.7451 - val_acc: 0.5560\n",
      "Epoch 8/150\n",
      "6982/6982 [==============================] - 0s 55us/step - loss: 1.8620 - acc: 0.4820 - val_loss: 1.7040 - val_acc: 0.5700\n",
      "Epoch 9/150\n",
      "6982/6982 [==============================] - 0s 55us/step - loss: 1.8291 - acc: 0.4898 - val_loss: 1.6763 - val_acc: 0.5810\n",
      "Epoch 10/150\n",
      "6982/6982 [==============================] - 0s 54us/step - loss: 1.7906 - acc: 0.5099 - val_loss: 1.6433 - val_acc: 0.5880\n",
      "Epoch 11/150\n",
      "6982/6982 [==============================] - 0s 54us/step - loss: 1.7560 - acc: 0.5205 - val_loss: 1.6189 - val_acc: 0.5975\n",
      "Epoch 12/150\n",
      "6982/6982 [==============================] - 0s 54us/step - loss: 1.7180 - acc: 0.5359 - val_loss: 1.5927 - val_acc: 0.6120\n",
      "Epoch 13/150\n",
      "6982/6982 [==============================] - 0s 54us/step - loss: 1.6825 - acc: 0.5487 - val_loss: 1.5682 - val_acc: 0.6180\n",
      "Epoch 14/150\n",
      "6982/6982 [==============================] - 0s 55us/step - loss: 1.6521 - acc: 0.5602 - val_loss: 1.5379 - val_acc: 0.6215\n",
      "Epoch 15/150\n",
      "6982/6982 [==============================] - 0s 55us/step - loss: 1.6249 - acc: 0.5698 - val_loss: 1.5215 - val_acc: 0.6305\n",
      "Epoch 16/150\n",
      "6982/6982 [==============================] - 0s 54us/step - loss: 1.5923 - acc: 0.5832 - val_loss: 1.5018 - val_acc: 0.6335\n",
      "Epoch 17/150\n",
      "6982/6982 [==============================] - 0s 55us/step - loss: 1.5653 - acc: 0.5902 - val_loss: 1.4861 - val_acc: 0.6385\n",
      "Epoch 18/150\n",
      "6982/6982 [==============================] - 0s 55us/step - loss: 1.5415 - acc: 0.5983 - val_loss: 1.4770 - val_acc: 0.6375\n",
      "Epoch 19/150\n",
      "6982/6982 [==============================] - 0s 55us/step - loss: 1.5304 - acc: 0.5968 - val_loss: 1.4652 - val_acc: 0.6425\n",
      "Epoch 20/150\n",
      "6982/6982 [==============================] - 0s 55us/step - loss: 1.5075 - acc: 0.6068 - val_loss: 1.4511 - val_acc: 0.6470\n",
      "Epoch 21/150\n",
      "6982/6982 [==============================] - 0s 55us/step - loss: 1.4949 - acc: 0.6051 - val_loss: 1.4426 - val_acc: 0.6410\n",
      "Epoch 22/150\n",
      "6982/6982 [==============================] - 0s 54us/step - loss: 1.4699 - acc: 0.6186 - val_loss: 1.4281 - val_acc: 0.6525\n",
      "Epoch 23/150\n",
      "6982/6982 [==============================] - 0s 55us/step - loss: 1.4520 - acc: 0.6207 - val_loss: 1.4212 - val_acc: 0.6630\n",
      "Epoch 24/150\n",
      "6982/6982 [==============================] - 0s 55us/step - loss: 1.4159 - acc: 0.6312 - val_loss: 1.3976 - val_acc: 0.6675\n",
      "Epoch 25/150\n",
      "6982/6982 [==============================] - 0s 55us/step - loss: 1.4022 - acc: 0.6308 - val_loss: 1.3925 - val_acc: 0.6700\n",
      "Epoch 26/150\n",
      "6982/6982 [==============================] - 0s 54us/step - loss: 1.3674 - acc: 0.6422 - val_loss: 1.3790 - val_acc: 0.6805\n",
      "Epoch 27/150\n",
      "6982/6982 [==============================] - 0s 55us/step - loss: 1.3511 - acc: 0.6458 - val_loss: 1.3655 - val_acc: 0.6805\n",
      "Epoch 28/150\n",
      "6982/6982 [==============================] - 0s 55us/step - loss: 1.3251 - acc: 0.6507 - val_loss: 1.3567 - val_acc: 0.6790\n",
      "Epoch 29/150\n",
      "6982/6982 [==============================] - 0s 55us/step - loss: 1.3251 - acc: 0.6524 - val_loss: 1.3500 - val_acc: 0.6830\n",
      "Epoch 30/150\n",
      "6982/6982 [==============================] - 0s 55us/step - loss: 1.3066 - acc: 0.6561 - val_loss: 1.3496 - val_acc: 0.6810\n",
      "Epoch 31/150\n",
      "6982/6982 [==============================] - 0s 55us/step - loss: 1.2904 - acc: 0.6547 - val_loss: 1.3403 - val_acc: 0.6850\n",
      "Epoch 32/150\n",
      "6982/6982 [==============================] - 0s 55us/step - loss: 1.2634 - acc: 0.6628 - val_loss: 1.3339 - val_acc: 0.6825\n",
      "Epoch 33/150\n",
      "6982/6982 [==============================] - 0s 55us/step - loss: 1.2560 - acc: 0.6663 - val_loss: 1.3347 - val_acc: 0.6845\n",
      "Epoch 34/150\n",
      "6982/6982 [==============================] - 0s 55us/step - loss: 1.2329 - acc: 0.6673 - val_loss: 1.3341 - val_acc: 0.6880\n",
      "Epoch 35/150\n",
      "6982/6982 [==============================] - 0s 55us/step - loss: 1.2143 - acc: 0.6757 - val_loss: 1.3262 - val_acc: 0.6960\n",
      "Epoch 36/150\n",
      "6982/6982 [==============================] - 0s 55us/step - loss: 1.2060 - acc: 0.6743 - val_loss: 1.3337 - val_acc: 0.6910\n",
      "Epoch 37/150\n",
      "6982/6982 [==============================] - 0s 55us/step - loss: 1.1969 - acc: 0.6780 - val_loss: 1.3248 - val_acc: 0.6955\n",
      "Epoch 38/150\n",
      "6982/6982 [==============================] - 0s 55us/step - loss: 1.1898 - acc: 0.6805 - val_loss: 1.3195 - val_acc: 0.6990\n",
      "Epoch 39/150\n",
      "6982/6982 [==============================] - 0s 55us/step - loss: 1.1737 - acc: 0.6895 - val_loss: 1.3197 - val_acc: 0.6985\n",
      "Epoch 40/150\n",
      "6982/6982 [==============================] - 0s 55us/step - loss: 1.1439 - acc: 0.6888 - val_loss: 1.3317 - val_acc: 0.6985\n",
      "Epoch 41/150\n",
      "6982/6982 [==============================] - 0s 55us/step - loss: 1.1422 - acc: 0.6889 - val_loss: 1.3239 - val_acc: 0.7050\n",
      "Epoch 42/150\n",
      "6982/6982 [==============================] - 0s 55us/step - loss: 1.1349 - acc: 0.6924 - val_loss: 1.3256 - val_acc: 0.7045\n",
      "Epoch 43/150\n",
      "6982/6982 [==============================] - 0s 55us/step - loss: 1.1142 - acc: 0.6964 - val_loss: 1.3327 - val_acc: 0.7030\n",
      "Epoch 44/150\n",
      "6982/6982 [==============================] - 0s 55us/step - loss: 1.1030 - acc: 0.6969 - val_loss: 1.3372 - val_acc: 0.7065\n",
      "Epoch 45/150\n",
      "6982/6982 [==============================] - 0s 55us/step - loss: 1.0911 - acc: 0.6998 - val_loss: 1.3360 - val_acc: 0.7065\n",
      "Epoch 46/150\n",
      "6982/6982 [==============================] - 0s 55us/step - loss: 1.0915 - acc: 0.7038 - val_loss: 1.3419 - val_acc: 0.7070\n",
      "Epoch 47/150\n",
      "6982/6982 [==============================] - 0s 56us/step - loss: 1.0771 - acc: 0.7014 - val_loss: 1.3518 - val_acc: 0.7050\n",
      "Epoch 48/150\n",
      "6982/6982 [==============================] - 0s 54us/step - loss: 1.0619 - acc: 0.7065 - val_loss: 1.3422 - val_acc: 0.7090\n",
      "Epoch 49/150\n",
      "6982/6982 [==============================] - 0s 55us/step - loss: 1.0531 - acc: 0.7103 - val_loss: 1.3429 - val_acc: 0.7070\n",
      "Epoch 50/150\n",
      "6982/6982 [==============================] - 0s 55us/step - loss: 1.0490 - acc: 0.7052 - val_loss: 1.3564 - val_acc: 0.7100\n",
      "Epoch 51/150\n",
      "6982/6982 [==============================] - 0s 54us/step - loss: 1.0493 - acc: 0.7095 - val_loss: 1.3660 - val_acc: 0.7085\n",
      "Epoch 52/150\n",
      "6982/6982 [==============================] - 0s 55us/step - loss: 1.0374 - acc: 0.7067 - val_loss: 1.3575 - val_acc: 0.7125\n",
      "Epoch 53/150\n",
      "6982/6982 [==============================] - 0s 55us/step - loss: 1.0260 - acc: 0.7128 - val_loss: 1.3878 - val_acc: 0.7075\n",
      "Epoch 54/150\n",
      "6982/6982 [==============================] - 0s 54us/step - loss: 1.0106 - acc: 0.7147 - val_loss: 1.3746 - val_acc: 0.7110\n",
      "Epoch 55/150\n",
      "6982/6982 [==============================] - 0s 54us/step - loss: 0.9982 - acc: 0.7151 - val_loss: 1.3826 - val_acc: 0.7125\n",
      "Epoch 56/150\n",
      "6982/6982 [==============================] - 0s 55us/step - loss: 0.9921 - acc: 0.7157 - val_loss: 1.3815 - val_acc: 0.7125\n",
      "Epoch 57/150\n",
      "6982/6982 [==============================] - 0s 54us/step - loss: 0.9853 - acc: 0.7259 - val_loss: 1.4056 - val_acc: 0.7110\n",
      "Epoch 58/150\n",
      "6982/6982 [==============================] - 0s 54us/step - loss: 0.9832 - acc: 0.7188 - val_loss: 1.4077 - val_acc: 0.7105\n",
      "Epoch 59/150\n",
      "6982/6982 [==============================] - 0s 55us/step - loss: 0.9763 - acc: 0.7237 - val_loss: 1.3994 - val_acc: 0.7095\n",
      "Epoch 60/150\n"
     ]
    },
    {
     "name": "stdout",
     "output_type": "stream",
     "text": [
      "6982/6982 [==============================] - 0s 54us/step - loss: 0.9635 - acc: 0.7229 - val_loss: 1.4442 - val_acc: 0.7085\n",
      "Epoch 61/150\n",
      "6982/6982 [==============================] - 0s 54us/step - loss: 0.9661 - acc: 0.7262 - val_loss: 1.4381 - val_acc: 0.7105\n",
      "Epoch 62/150\n",
      "6982/6982 [==============================] - 0s 53us/step - loss: 0.9550 - acc: 0.7226 - val_loss: 1.4605 - val_acc: 0.7075\n",
      "Epoch 63/150\n",
      "6982/6982 [==============================] - 0s 53us/step - loss: 0.9368 - acc: 0.7274 - val_loss: 1.4482 - val_acc: 0.7040\n",
      "Epoch 64/150\n",
      "6982/6982 [==============================] - 0s 54us/step - loss: 0.9349 - acc: 0.7300 - val_loss: 1.4206 - val_acc: 0.7135\n",
      "Epoch 65/150\n",
      "6982/6982 [==============================] - 0s 53us/step - loss: 0.9237 - acc: 0.7279 - val_loss: 1.4345 - val_acc: 0.7120\n",
      "Epoch 66/150\n",
      "6982/6982 [==============================] - 0s 53us/step - loss: 0.9267 - acc: 0.7312 - val_loss: 1.4396 - val_acc: 0.7110\n",
      "Epoch 67/150\n",
      "6982/6982 [==============================] - 0s 54us/step - loss: 0.9108 - acc: 0.7296 - val_loss: 1.4751 - val_acc: 0.7115\n",
      "Epoch 68/150\n",
      "6982/6982 [==============================] - 0s 53us/step - loss: 0.9061 - acc: 0.7453 - val_loss: 1.4708 - val_acc: 0.7100\n",
      "Epoch 69/150\n",
      "6982/6982 [==============================] - 0s 54us/step - loss: 0.9046 - acc: 0.7366 - val_loss: 1.4907 - val_acc: 0.7090\n",
      "Epoch 70/150\n",
      "6982/6982 [==============================] - 0s 54us/step - loss: 0.8852 - acc: 0.7392 - val_loss: 1.5163 - val_acc: 0.7045\n",
      "Epoch 71/150\n",
      "6982/6982 [==============================] - 0s 54us/step - loss: 0.8887 - acc: 0.7399 - val_loss: 1.4936 - val_acc: 0.7095\n",
      "Epoch 72/150\n",
      "6982/6982 [==============================] - 0s 54us/step - loss: 0.8808 - acc: 0.7429 - val_loss: 1.5148 - val_acc: 0.7135\n",
      "Epoch 73/150\n",
      "6982/6982 [==============================] - 0s 54us/step - loss: 0.8778 - acc: 0.7405 - val_loss: 1.5552 - val_acc: 0.7090\n",
      "Epoch 74/150\n",
      "6982/6982 [==============================] - 0s 58us/step - loss: 0.8643 - acc: 0.7385 - val_loss: 1.5554 - val_acc: 0.7110\n",
      "Epoch 75/150\n",
      "6982/6982 [==============================] - 0s 59us/step - loss: 0.8627 - acc: 0.7462 - val_loss: 1.5583 - val_acc: 0.7125\n",
      "Epoch 76/150\n",
      "6982/6982 [==============================] - 0s 60us/step - loss: 0.8743 - acc: 0.7396 - val_loss: 1.5395 - val_acc: 0.7155\n",
      "Epoch 77/150\n",
      "6982/6982 [==============================] - 0s 58us/step - loss: 0.8637 - acc: 0.7413 - val_loss: 1.5712 - val_acc: 0.7115\n",
      "Epoch 78/150\n",
      "6982/6982 [==============================] - 0s 58us/step - loss: 0.8470 - acc: 0.7476 - val_loss: 1.5739 - val_acc: 0.7125\n",
      "Epoch 79/150\n",
      "6982/6982 [==============================] - 0s 58us/step - loss: 0.8584 - acc: 0.7465 - val_loss: 1.6072 - val_acc: 0.7125\n",
      "Epoch 80/150\n",
      "6982/6982 [==============================] - 0s 58us/step - loss: 0.8572 - acc: 0.7426 - val_loss: 1.5942 - val_acc: 0.7165\n",
      "Epoch 81/150\n",
      "6982/6982 [==============================] - 0s 57us/step - loss: 0.8407 - acc: 0.7478 - val_loss: 1.5996 - val_acc: 0.7120\n",
      "Epoch 82/150\n",
      "6982/6982 [==============================] - 0s 57us/step - loss: 0.8321 - acc: 0.7484 - val_loss: 1.6290 - val_acc: 0.7130\n",
      "Epoch 83/150\n",
      "6982/6982 [==============================] - 0s 58us/step - loss: 0.8166 - acc: 0.7547 - val_loss: 1.6233 - val_acc: 0.7160\n",
      "Epoch 84/150\n",
      "6982/6982 [==============================] - 0s 59us/step - loss: 0.8128 - acc: 0.7561 - val_loss: 1.6630 - val_acc: 0.7125\n",
      "Epoch 85/150\n",
      "6982/6982 [==============================] - 0s 57us/step - loss: 0.8279 - acc: 0.7429 - val_loss: 1.6470 - val_acc: 0.7165\n",
      "Epoch 86/150\n",
      "6982/6982 [==============================] - 0s 55us/step - loss: 0.8245 - acc: 0.7461 - val_loss: 1.6388 - val_acc: 0.7175\n",
      "Epoch 87/150\n",
      "6982/6982 [==============================] - 0s 59us/step - loss: 0.8154 - acc: 0.7488 - val_loss: 1.6628 - val_acc: 0.7155\n",
      "Epoch 88/150\n",
      "6982/6982 [==============================] - 0s 54us/step - loss: 0.8193 - acc: 0.7471 - val_loss: 1.6763 - val_acc: 0.7155\n",
      "Epoch 89/150\n",
      "6982/6982 [==============================] - 0s 54us/step - loss: 0.8093 - acc: 0.7544 - val_loss: 1.6764 - val_acc: 0.7170\n",
      "Epoch 90/150\n",
      "6982/6982 [==============================] - 0s 54us/step - loss: 0.8100 - acc: 0.7516 - val_loss: 1.7306 - val_acc: 0.7140\n",
      "Epoch 91/150\n",
      "6982/6982 [==============================] - 0s 59us/step - loss: 0.7960 - acc: 0.7571 - val_loss: 1.7504 - val_acc: 0.7140\n",
      "Epoch 92/150\n",
      "6982/6982 [==============================] - 0s 58us/step - loss: 0.8068 - acc: 0.7494 - val_loss: 1.7008 - val_acc: 0.7150\n",
      "Epoch 93/150\n",
      "6982/6982 [==============================] - 0s 56us/step - loss: 0.7896 - acc: 0.7534 - val_loss: 1.6974 - val_acc: 0.7185\n",
      "Epoch 94/150\n",
      "6982/6982 [==============================] - 0s 55us/step - loss: 0.7894 - acc: 0.7598 - val_loss: 1.7517 - val_acc: 0.7140\n",
      "Epoch 95/150\n",
      "6982/6982 [==============================] - 0s 59us/step - loss: 0.7820 - acc: 0.7605 - val_loss: 1.7563 - val_acc: 0.7160\n",
      "Epoch 96/150\n",
      "6982/6982 [==============================] - 0s 57us/step - loss: 0.7870 - acc: 0.7539 - val_loss: 1.7289 - val_acc: 0.7180\n",
      "Epoch 97/150\n",
      "6982/6982 [==============================] - 0s 56us/step - loss: 0.7663 - acc: 0.7612 - val_loss: 1.7468 - val_acc: 0.7140\n",
      "Epoch 98/150\n",
      "6982/6982 [==============================] - 0s 58us/step - loss: 0.7678 - acc: 0.7638 - val_loss: 1.8045 - val_acc: 0.7125\n",
      "Epoch 99/150\n",
      "6982/6982 [==============================] - 0s 59us/step - loss: 0.7693 - acc: 0.7600 - val_loss: 1.7716 - val_acc: 0.7150\n",
      "Epoch 100/150\n",
      "6982/6982 [==============================] - 0s 55us/step - loss: 0.7626 - acc: 0.7628 - val_loss: 1.7659 - val_acc: 0.7155\n",
      "Epoch 101/150\n",
      "6982/6982 [==============================] - 0s 60us/step - loss: 0.7452 - acc: 0.7645 - val_loss: 1.7866 - val_acc: 0.7160\n",
      "Epoch 102/150\n",
      "6982/6982 [==============================] - 0s 56us/step - loss: 0.7630 - acc: 0.7631 - val_loss: 1.8006 - val_acc: 0.7155\n",
      "Epoch 103/150\n",
      "6982/6982 [==============================] - 0s 57us/step - loss: 0.7597 - acc: 0.7561 - val_loss: 1.7848 - val_acc: 0.7140\n",
      "Epoch 104/150\n",
      "6982/6982 [==============================] - 0s 59us/step - loss: 0.7596 - acc: 0.7654 - val_loss: 1.8018 - val_acc: 0.7150\n",
      "Epoch 105/150\n",
      "6982/6982 [==============================] - 0s 58us/step - loss: 0.7497 - acc: 0.7667 - val_loss: 1.8493 - val_acc: 0.7150\n",
      "Epoch 106/150\n",
      "6982/6982 [==============================] - 0s 59us/step - loss: 0.7321 - acc: 0.7697 - val_loss: 1.8583 - val_acc: 0.7140\n",
      "Epoch 107/150\n",
      "6982/6982 [==============================] - 0s 58us/step - loss: 0.7397 - acc: 0.7673 - val_loss: 1.8656 - val_acc: 0.7135\n",
      "Epoch 108/150\n",
      "6982/6982 [==============================] - 0s 58us/step - loss: 0.7354 - acc: 0.7648 - val_loss: 1.8805 - val_acc: 0.7130\n",
      "Epoch 109/150\n",
      "6982/6982 [==============================] - 0s 55us/step - loss: 0.7430 - acc: 0.7612 - val_loss: 1.8704 - val_acc: 0.7125\n",
      "Epoch 110/150\n",
      "6982/6982 [==============================] - 0s 55us/step - loss: 0.7468 - acc: 0.7678 - val_loss: 1.8718 - val_acc: 0.7145\n",
      "Epoch 111/150\n",
      "6982/6982 [==============================] - 0s 60us/step - loss: 0.7148 - acc: 0.7737 - val_loss: 1.8599 - val_acc: 0.7150\n",
      "Epoch 112/150\n",
      "6982/6982 [==============================] - 0s 59us/step - loss: 0.7200 - acc: 0.7683 - val_loss: 1.8872 - val_acc: 0.7160\n",
      "Epoch 113/150\n",
      "6982/6982 [==============================] - 0s 58us/step - loss: 0.7166 - acc: 0.7761 - val_loss: 1.8891 - val_acc: 0.7145\n",
      "Epoch 114/150\n",
      "6982/6982 [==============================] - 0s 57us/step - loss: 0.7248 - acc: 0.7738 - val_loss: 1.8915 - val_acc: 0.7200\n",
      "Epoch 115/150\n",
      "6982/6982 [==============================] - 0s 57us/step - loss: 0.7290 - acc: 0.7716 - val_loss: 1.9226 - val_acc: 0.7175\n",
      "Epoch 116/150\n",
      "6982/6982 [==============================] - 0s 59us/step - loss: 0.7147 - acc: 0.7747 - val_loss: 1.9243 - val_acc: 0.7190\n",
      "Epoch 117/150\n",
      "6982/6982 [==============================] - 0s 58us/step - loss: 0.7199 - acc: 0.7720 - val_loss: 1.9172 - val_acc: 0.7180\n",
      "Epoch 118/150\n",
      "6982/6982 [==============================] - 0s 58us/step - loss: 0.7135 - acc: 0.7750 - val_loss: 1.9359 - val_acc: 0.7145\n",
      "Epoch 119/150\n",
      "6982/6982 [==============================] - 0s 56us/step - loss: 0.7245 - acc: 0.7724 - val_loss: 1.9258 - val_acc: 0.7170\n"
     ]
    },
    {
     "name": "stdout",
     "output_type": "stream",
     "text": [
      "Epoch 120/150\n",
      "6982/6982 [==============================] - 0s 59us/step - loss: 0.7055 - acc: 0.7731 - val_loss: 1.9324 - val_acc: 0.7135\n",
      "Epoch 121/150\n",
      "6982/6982 [==============================] - 0s 59us/step - loss: 0.7190 - acc: 0.7789 - val_loss: 1.9468 - val_acc: 0.7145\n",
      "Epoch 122/150\n",
      "6982/6982 [==============================] - 0s 58us/step - loss: 0.6984 - acc: 0.7819 - val_loss: 1.9739 - val_acc: 0.7125\n",
      "Epoch 123/150\n",
      "6982/6982 [==============================] - 0s 54us/step - loss: 0.7120 - acc: 0.7753 - val_loss: 1.9538 - val_acc: 0.7195\n",
      "Epoch 124/150\n",
      "6982/6982 [==============================] - 0s 58us/step - loss: 0.6879 - acc: 0.7804 - val_loss: 1.9820 - val_acc: 0.7170\n",
      "Epoch 125/150\n",
      "6982/6982 [==============================] - 0s 58us/step - loss: 0.6954 - acc: 0.7794 - val_loss: 1.9542 - val_acc: 0.7155\n",
      "Epoch 126/150\n",
      "6982/6982 [==============================] - 0s 54us/step - loss: 0.7072 - acc: 0.7736 - val_loss: 1.9713 - val_acc: 0.7110\n",
      "Epoch 127/150\n",
      "6982/6982 [==============================] - 0s 55us/step - loss: 0.6919 - acc: 0.7799 - val_loss: 1.9945 - val_acc: 0.7155\n",
      "Epoch 128/150\n",
      "6982/6982 [==============================] - 0s 57us/step - loss: 0.6812 - acc: 0.7842 - val_loss: 1.9972 - val_acc: 0.7190\n",
      "Epoch 129/150\n",
      "6982/6982 [==============================] - 0s 54us/step - loss: 0.6878 - acc: 0.7793 - val_loss: 1.9605 - val_acc: 0.7145\n",
      "Epoch 130/150\n",
      "6982/6982 [==============================] - 0s 54us/step - loss: 0.6825 - acc: 0.7879 - val_loss: 2.0037 - val_acc: 0.7125\n",
      "Epoch 131/150\n",
      "6982/6982 [==============================] - 0s 54us/step - loss: 0.6974 - acc: 0.7790 - val_loss: 2.0060 - val_acc: 0.7140\n",
      "Epoch 132/150\n",
      "6982/6982 [==============================] - 0s 55us/step - loss: 0.6907 - acc: 0.7760 - val_loss: 2.0168 - val_acc: 0.7170\n",
      "Epoch 133/150\n",
      "6982/6982 [==============================] - 0s 54us/step - loss: 0.6816 - acc: 0.7820 - val_loss: 2.0077 - val_acc: 0.7160\n",
      "Epoch 134/150\n",
      "6982/6982 [==============================] - 0s 54us/step - loss: 0.6786 - acc: 0.7839 - val_loss: 2.0596 - val_acc: 0.7165\n",
      "Epoch 135/150\n",
      "6982/6982 [==============================] - 0s 54us/step - loss: 0.6802 - acc: 0.7842 - val_loss: 2.0490 - val_acc: 0.7105\n",
      "Epoch 136/150\n",
      "6982/6982 [==============================] - 0s 55us/step - loss: 0.6704 - acc: 0.7860 - val_loss: 2.0037 - val_acc: 0.7120\n",
      "Epoch 137/150\n",
      "6982/6982 [==============================] - 0s 60us/step - loss: 0.6785 - acc: 0.7834 - val_loss: 2.0394 - val_acc: 0.7140\n",
      "Epoch 138/150\n",
      "6982/6982 [==============================] - 0s 59us/step - loss: 0.6705 - acc: 0.7852 - val_loss: 2.0632 - val_acc: 0.7165\n",
      "Epoch 139/150\n",
      "6982/6982 [==============================] - 0s 55us/step - loss: 0.6766 - acc: 0.7832 - val_loss: 2.0422 - val_acc: 0.7140\n",
      "Epoch 140/150\n",
      "6982/6982 [==============================] - 0s 57us/step - loss: 0.6628 - acc: 0.7892 - val_loss: 2.0381 - val_acc: 0.7170\n",
      "Epoch 141/150\n",
      "6982/6982 [==============================] - 0s 57us/step - loss: 0.6637 - acc: 0.7869 - val_loss: 2.1179 - val_acc: 0.7135\n",
      "Epoch 142/150\n",
      "6982/6982 [==============================] - 0s 58us/step - loss: 0.6777 - acc: 0.7822 - val_loss: 2.0836 - val_acc: 0.7150\n",
      "Epoch 143/150\n",
      "6982/6982 [==============================] - 0s 54us/step - loss: 0.6543 - acc: 0.7945 - val_loss: 2.0969 - val_acc: 0.7125\n",
      "Epoch 144/150\n",
      "6982/6982 [==============================] - 0s 62us/step - loss: 0.6688 - acc: 0.7846 - val_loss: 2.0933 - val_acc: 0.7145\n",
      "Epoch 145/150\n",
      "6982/6982 [==============================] - 0s 57us/step - loss: 0.6586 - acc: 0.7887 - val_loss: 2.1382 - val_acc: 0.7130\n",
      "Epoch 146/150\n",
      "6982/6982 [==============================] - 0s 57us/step - loss: 0.6584 - acc: 0.7883 - val_loss: 2.1225 - val_acc: 0.7075\n",
      "Epoch 147/150\n",
      "6982/6982 [==============================] - 0s 56us/step - loss: 0.6594 - acc: 0.7857 - val_loss: 2.1272 - val_acc: 0.7140\n",
      "Epoch 148/150\n",
      "6982/6982 [==============================] - 0s 58us/step - loss: 0.6691 - acc: 0.7859 - val_loss: 2.1253 - val_acc: 0.7075\n",
      "Epoch 149/150\n",
      "6982/6982 [==============================] - 0s 59us/step - loss: 0.6520 - acc: 0.7925 - val_loss: 2.1317 - val_acc: 0.7110\n",
      "Epoch 150/150\n",
      "6982/6982 [==============================] - 0s 58us/step - loss: 0.6563 - acc: 0.7893 - val_loss: 2.1536 - val_acc: 0.7095\n"
     ]
    }
   ],
   "source": [
    "history = model.fit(x_train_partial, y_train_partial,\n",
    "                    batch_size=batch_size,\n",
    "                    epochs=150,\n",
    "                    validation_data=(x_val, y_val),\n",
    "                    verbose=1)"
   ]
  },
  {
   "cell_type": "markdown",
   "metadata": {},
   "source": [
    "### Evaluacion del modelo"
   ]
  },
  {
   "cell_type": "code",
   "execution_count": 134,
   "metadata": {},
   "outputs": [
    {
     "name": "stdout",
     "output_type": "stream",
     "text": [
      "2246/2246 [==============================] - 0s 21us/step\n",
      "Test loss score: 2.3630392160780813\n",
      "Test accuracy: 0.7034728406585972\n"
     ]
    }
   ],
   "source": [
    "score = model.evaluate(x_test, y_test,\n",
    "                       batch_size=batch_size, verbose=1)\n",
    "print('Test loss score:', score[0])\n",
    "print('Test accuracy:', score[1])"
   ]
  },
  {
   "cell_type": "code",
   "execution_count": 135,
   "metadata": {},
   "outputs": [],
   "source": [
    "history_dict = history.history"
   ]
  },
  {
   "cell_type": "code",
   "execution_count": 136,
   "metadata": {},
   "outputs": [
    {
     "data": {
      "text/plain": [
       "dict_keys(['val_loss', 'val_acc', 'loss', 'acc'])"
      ]
     },
     "execution_count": 136,
     "metadata": {},
     "output_type": "execute_result"
    }
   ],
   "source": [
    "history_dict.keys()"
   ]
  },
  {
   "cell_type": "code",
   "execution_count": 137,
   "metadata": {},
   "outputs": [
    {
     "data": {
      "text/plain": [
       "[3.1342890110988395,\n",
       " 2.4028508804548574,\n",
       " 2.280016968974887,\n",
       " 2.1624674357919904,\n",
       " 2.0497156019300964,\n",
       " 1.970174854377456,\n",
       " 1.905318948574443,\n",
       " 1.862001951770023,\n",
       " 1.8291007211713044,\n",
       " 1.7906456535233362,\n",
       " 1.7560322307577383,\n",
       " 1.7179838048459055,\n",
       " 1.6825097266598508,\n",
       " 1.6521418256494658,\n",
       " 1.6248885422851116,\n",
       " 1.5922854171377032,\n",
       " 1.5653109858487473,\n",
       " 1.5414998245526097,\n",
       " 1.5303616870340868,\n",
       " 1.5075352570963465,\n",
       " 1.4948959828993886,\n",
       " 1.4699124049675973,\n",
       " 1.4519584210681833,\n",
       " 1.4158938010966187,\n",
       " 1.4022498194995838,\n",
       " 1.3673882043931929,\n",
       " 1.351057445719535,\n",
       " 1.3251266460369528,\n",
       " 1.3251213920864258,\n",
       " 1.3065721252114135,\n",
       " 1.2903972473502399,\n",
       " 1.263417149641834,\n",
       " 1.2560377897402852,\n",
       " 1.2328895588584972,\n",
       " 1.2143397875209143,\n",
       " 1.2060209890212346,\n",
       " 1.1968877449038375,\n",
       " 1.1898159195379008,\n",
       " 1.1736573200449838,\n",
       " 1.1438841475726063,\n",
       " 1.142193489329448,\n",
       " 1.1348644298661645,\n",
       " 1.1142362802495112,\n",
       " 1.1029821948023726,\n",
       " 1.0910698709328104,\n",
       " 1.0915027754298599,\n",
       " 1.0770559846347534,\n",
       " 1.0618778525314643,\n",
       " 1.0530569050210283,\n",
       " 1.049002801883668,\n",
       " 1.0493496468947494,\n",
       " 1.0373618845200683,\n",
       " 1.026025554813515,\n",
       " 1.0105545609224769,\n",
       " 0.9982052033762302,\n",
       " 0.9920803345707828,\n",
       " 0.9852845101942479,\n",
       " 0.9832115665065357,\n",
       " 0.9762584528653951,\n",
       " 0.9634873485606162,\n",
       " 0.9661473580893525,\n",
       " 0.9550252078222157,\n",
       " 0.9368374134605711,\n",
       " 0.9349124765915162,\n",
       " 0.9237483604628389,\n",
       " 0.9266722712807722,\n",
       " 0.9108216420725197,\n",
       " 0.9061309414721259,\n",
       " 0.9046054775446474,\n",
       " 0.8852450261140614,\n",
       " 0.8886896083977119,\n",
       " 0.8808218297977838,\n",
       " 0.8778474437954842,\n",
       " 0.8643086662916699,\n",
       " 0.8626904578954707,\n",
       " 0.8742649794922487,\n",
       " 0.8636804322856984,\n",
       " 0.8469885924899861,\n",
       " 0.8584063868575914,\n",
       " 0.8572052130553006,\n",
       " 0.840716674176918,\n",
       " 0.8321004935746479,\n",
       " 0.8166082793202724,\n",
       " 0.8127863239811745,\n",
       " 0.8279010323117709,\n",
       " 0.8244606439857625,\n",
       " 0.8154102494196918,\n",
       " 0.8192615335563369,\n",
       " 0.8093083140946363,\n",
       " 0.8100378266448997,\n",
       " 0.7960185301496797,\n",
       " 0.8067743064202336,\n",
       " 0.7895695397246707,\n",
       " 0.7894497433182709,\n",
       " 0.7820463902166258,\n",
       " 0.7870221457622072,\n",
       " 0.766268777568987,\n",
       " 0.7678047473742743,\n",
       " 0.7693253037103845,\n",
       " 0.7625620101864786,\n",
       " 0.7452352672892155,\n",
       " 0.7630409264557685,\n",
       " 0.7596551895278192,\n",
       " 0.7596138905988864,\n",
       " 0.7497141974100715,\n",
       " 0.7320611240362,\n",
       " 0.7397307154144404,\n",
       " 0.7353536242043449,\n",
       " 0.7429731888949991,\n",
       " 0.7467780763475986,\n",
       " 0.7147701513934566,\n",
       " 0.7200147366154949,\n",
       " 0.7165521978563649,\n",
       " 0.7248104412041432,\n",
       " 0.7290208920029712,\n",
       " 0.7146950880936858,\n",
       " 0.7198849829552475,\n",
       " 0.7135304081443387,\n",
       " 0.7244504603694146,\n",
       " 0.7055218467156479,\n",
       " 0.718964792828579,\n",
       " 0.6984464347925954,\n",
       " 0.711953394018931,\n",
       " 0.6878595703210233,\n",
       " 0.6954186832928719,\n",
       " 0.7072452470399834,\n",
       " 0.6919065335270874,\n",
       " 0.6812035917245498,\n",
       " 0.6877633836371139,\n",
       " 0.6825093228644199,\n",
       " 0.6973648391742995,\n",
       " 0.6907184659768845,\n",
       " 0.6815842324497023,\n",
       " 0.6785944674971861,\n",
       " 0.6801566557227217,\n",
       " 0.670422827487209,\n",
       " 0.6784894535655758,\n",
       " 0.670528737326059,\n",
       " 0.6765568436848267,\n",
       " 0.6628219384205987,\n",
       " 0.6637134581454263,\n",
       " 0.6776707577715201,\n",
       " 0.6543316739365624,\n",
       " 0.6687873497677888,\n",
       " 0.6586193558958737,\n",
       " 0.6583873704438632,\n",
       " 0.6593871861824296,\n",
       " 0.669115928943162,\n",
       " 0.6519584151913805,\n",
       " 0.6562783898749962]"
      ]
     },
     "execution_count": 137,
     "metadata": {},
     "output_type": "execute_result"
    }
   ],
   "source": [
    "history_dict['loss']"
   ]
  },
  {
   "cell_type": "markdown",
   "metadata": {},
   "source": [
    "### Gráficas del modelo"
   ]
  },
  {
   "cell_type": "code",
   "execution_count": 138,
   "metadata": {},
   "outputs": [
    {
     "data": {
      "image/png": "[encoded data removed]",
      "text/plain": [
       "<Figure size 432x288 with 1 Axes>"
      ]
     },
     "metadata": {
      "needs_background": "light"
     },
     "output_type": "display_data"
    }
   ],
   "source": [
    "import matplotlib.pyplot as plt\n",
    "\n",
    "acc = history.history['acc']\n",
    "val_acc = history.history['val_acc']\n",
    "loss = history.history['loss']\n",
    "val_loss = history.history['val_loss']\n",
    "\n",
    "epochs = range(1, len(acc) + 1)\n",
    "\n",
    "# \"bo\" is for \"blue dot\"\n",
    "plt.plot(epochs, loss, 'bo', label='Training loss')\n",
    "# b is for \"solid blue line\"\n",
    "plt.plot(epochs, val_loss, 'b', label='Validation loss')\n",
    "plt.title('Training and validation loss')\n",
    "plt.xlabel('Epochs')\n",
    "plt.ylabel('Loss')\n",
    "plt.legend()\n",
    "\n",
    "plt.show()"
   ]
  },
  {
   "cell_type": "code",
   "execution_count": 139,
   "metadata": {},
   "outputs": [
    {
     "data": {
      "image/png": "[encoded data removed]",
      "text/plain": [
       "<Figure size 432x288 with 1 Axes>"
      ]
     },
     "metadata": {
      "needs_background": "light"
     },
     "output_type": "display_data"
    }
   ],
   "source": [
    "plt.clf()   # clear figure\n",
    "acc_values = history_dict['acc']\n",
    "val_acc_values = history_dict['val_acc']\n",
    "\n",
    "plt.plot(epochs, acc, 'bo', label='Training acc')\n",
    "plt.plot(epochs, val_acc, 'b', label='Validation acc')\n",
    "plt.title('Training and validation accuracy')\n",
    "plt.xlabel('Epochs')\n",
    "plt.ylabel('Accuracy')\n",
    "plt.legend()\n",
    "\n",
    "plt.show()"
   ]
  },
  {
   "cell_type": "markdown",
   "metadata": {},
   "source": [
    "### Conclusiones"
   ]
  },
  {
   "cell_type": "markdown",
   "metadata": {},
   "source": [
    "A la vista de los resultados, el modelo empieza a caer en el overfitting a partir de los 40 epochs. En dicho valor el accuracy deja de crecer y las pérdidas se incrementan.\n",
    "El modelo propuesto obtiene un 0,7 de accuracy por lo que se puede considerar válido de cara a lo requerido en la práctica."
   ]
  },
  {
   "cell_type": "code",
   "execution_count": null,
   "metadata": {},
   "outputs": [],
   "source": []
  }
 ],
 "metadata": {
  "accelerator": "GPU",
  "colab": {
   "collapsed_sections": [],
   "name": "Trabajo 3",
   "provenance": [],
   "version": "0.3.2"
  },
  "kernelspec": {
   "display_name": "Python 3",
   "language": "python",
   "name": "python3"
  },
  "language_info": {
   "codemirror_mode": {
    "name": "ipython",
    "version": 3
   },
   "file_extension": ".py",
   "mimetype": "text/x-python",
   "name": "python",
   "nbconvert_exporter": "python",
   "pygments_lexer": "ipython3",
   "version": "3.6.7"
  },
  "toc": {
   "base_numbering": 1,
   "nav_menu": {},
   "number_sections": true,
   "sideBar": true,
   "skip_h1_title": false,
   "title_cell": "Table of Contents",
   "title_sidebar": "Contents",
   "toc_cell": false,
   "toc_position": {
    "height": "calc(100% - 180px)",
    "left": "10px",
    "top": "150px",
    "width": "165px"
   },
   "toc_section_display": true,
   "toc_window_display": true
  }
 },
 "nbformat": 4,
 "nbformat_minor": 1
}
