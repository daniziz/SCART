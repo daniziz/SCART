{
 "cells": [
  {
   "cell_type": "markdown",
   "metadata": {
    "toc": true
   },
   "source": [
    "<h1>Table of Contents<span class=\"tocSkip\"></span></h1>\n",
    "<div class=\"toc\"><ul class=\"toc-item\"><li><span><a href=\"#Carga-de-los-datos\" data-toc-modified-id=\"Carga-de-los-datos-1\"><span class=\"toc-item-num\">1&nbsp;&nbsp;</span>Carga de los datos</a></span></li><li><span><a href=\"#Entregable\" data-toc-modified-id=\"Entregable-2\"><span class=\"toc-item-num\">2&nbsp;&nbsp;</span>Entregable</a></span><ul class=\"toc-item\"><li><span><a href=\"#Análisis-de-los-datos\" data-toc-modified-id=\"Análisis-de-los-datos-2.1\"><span class=\"toc-item-num\">2.1&nbsp;&nbsp;</span>Análisis de los datos</a></span></li><li><span><a href=\"#Split-data\" data-toc-modified-id=\"Split-data-2.2\"><span class=\"toc-item-num\">2.2&nbsp;&nbsp;</span>Split data</a></span></li><li><span><a href=\"#Parametros-del-modelo\" data-toc-modified-id=\"Parametros-del-modelo-2.3\"><span class=\"toc-item-num\">2.3&nbsp;&nbsp;</span>Parametros del modelo</a></span></li><li><span><a href=\"#Definicion-del-modelo-inicial\" data-toc-modified-id=\"Definicion-del-modelo-inicial-2.4\"><span class=\"toc-item-num\">2.4&nbsp;&nbsp;</span>Definicion del modelo inicial</a></span></li><li><span><a href=\"#Graficas-del-modelo\" data-toc-modified-id=\"Graficas-del-modelo-2.5\"><span class=\"toc-item-num\">2.5&nbsp;&nbsp;</span>Graficas del modelo</a></span></li><li><span><a href=\"#Mejoras-del-modelo:-más-capas-convolucionales\" data-toc-modified-id=\"Mejoras-del-modelo:-más-capas-convolucionales-2.6\"><span class=\"toc-item-num\">2.6&nbsp;&nbsp;</span>Mejoras del modelo: más capas convolucionales</a></span></li></ul></li></ul></div>"
   ]
  },
  {
   "cell_type": "markdown",
   "metadata": {
    "colab_type": "text",
    "id": "mX8gZlVyCCbz"
   },
   "source": [
    "# Laboratorio: Convolutional Neural Networks\n",
    "\n",
    "En este laboratorio, vamos a trabajar con Convolutional Neural Networks para resolver un problema de clasificación de imágenes. En particular, vamos a clasificar imágenes de personajes de la conocida serie de los Simpsons.\n",
    "\n",
    "Como las CNN profundas son un tipo de modelo bastante avanzado y computacionalmente costoso, se recomienda hacer la práctica en Google Colaboratory con soporte para GPUs. En [este enlace](https://medium.com/deep-learning-turkey/google-colab-free-gpu-tutorial-e113627b9f5d) se explica cómo activar un entorno con GPUs. *Nota: para leer las imágenes y estandarizarlas al mismo tamaño se usa la librería opencv. Esta ĺibrería está ya instalada en el entorno de Colab, pero si trabajáis de manera local tendréis que instalarla.*\n",
    "\n",
    "<center><img src=\"https://i.imgur.com/i8zIGqX.jpg\" style=\"text-align: center\" height=\"300px\"></center>\n",
    "\n",
    "El dataset a utilizar consiste en imágenes de personajes de los Simpsons extraídas directamente de capítulos de la serie. Este dataset ha sido recopilado por [Alexandre Attia](http://www.alexattia.fr/) y es más complejo que el dataset de Fashion MNIST que hemos utilizado hasta ahora. Aparte de tener más clases (vamos a utilizar los 18 personajes con más imágenes), los personajes pueden aparecer en distintas poses, en distintas posiciones de la imagen o con otros personajes en pantalla (si bien el personaje a clasificar siempre aparece en la posición predominante).\n",
    "\n",
    "El dataset de training puede ser descargado desde aquí:\n",
    "\n",
    "[Training data](https://onedrive.live.com/download?cid=C506CF0A4F373B0F&resid=C506CF0A4F373B0F%219337&authkey=AMzI92bJPx8Sd60) (~500MB)\n",
    "\n",
    "Por otro lado, el dataset de test puede ser descargado de aquí:\n",
    "\n",
    "[Test data](https://onedrive.live.com/download?cid=C506CF0A4F373B0F&resid=C506CF0A4F373B0F%219341&authkey=ANnjK3Uq1FhuAe8) (~10MB)\n",
    "\n",
    "Antes de empezar la práctica, se recomienda descargar las imágenes y echarlas un vistazo.\n"
   ]
  },
  {
   "cell_type": "markdown",
   "metadata": {
    "colab_type": "text",
    "id": "QI274F8LQC59"
   },
   "source": [
    "## Carga de los datos"
   ]
  },
  {
   "cell_type": "code",
   "execution_count": 1,
   "metadata": {},
   "outputs": [
    {
     "name": "stderr",
     "output_type": "stream",
     "text": [
      "Using TensorFlow backend.\n"
     ]
    }
   ],
   "source": [
    "import cv2\n",
    "import os\n",
    "import numpy as np \n",
    "import tensorflow as tf\n",
    "tf.test.gpu_device_name()\n",
    "from tensorflow.python.client import device_lib\n",
    "device_lib.list_local_devices()\n",
    "import keras\n",
    "from keras.models import Sequential\n",
    "from keras.layers import Dense, Dropout, InputLayer, Conv2D, MaxPooling2D, Flatten, Activation\n",
    "from keras.layers.normalization import BatchNormalization\n",
    "from keras.callbacks import ReduceLROnPlateau, EarlyStopping\n",
    "import matplotlib.pyplot as plt\n",
    "import glob"
   ]
  },
  {
   "cell_type": "code",
   "execution_count": 2,
   "metadata": {},
   "outputs": [
    {
     "name": "stdout",
     "output_type": "stream",
     "text": [
      "[[22. 28.]\n",
      " [49. 64.]]\n"
     ]
    }
   ],
   "source": [
    "# Creates a graph.\n",
    "a = tf.constant([1.0, 2.0, 3.0, 4.0, 5.0, 6.0], shape=[2, 3], name='a')\n",
    "b = tf.constant([1.0, 2.0, 3.0, 4.0, 5.0, 6.0], shape=[3, 2], name='b')\n",
    "c = tf.matmul(a, b)\n",
    "# Creates a session with log_device_placement set to True.\n",
    "sess = tf.Session(config=tf.ConfigProto(log_device_placement=True))\n",
    "# Runs the op.\n",
    "print(sess.run(c))"
   ]
  },
  {
   "cell_type": "code",
   "execution_count": 3,
   "metadata": {
    "colab": {},
    "colab_type": "code",
    "id": "D7tKOZ9BFfki"
   },
   "outputs": [],
   "source": [
    "# Primero, bajamos los datos de entrenamiento\n",
    "keras.utils.get_file(fname=\"/home/diicic/master/SCART/simpsons_train.tar.gz\", \n",
    "                     origin=\"https://onedrive.live.com/download?cid=C506CF0A4F373B0F&resid=C506CF0A4F373B0F%219337&authkey=AMzI92bJPx8Sd60\")\n",
    "\n",
    "# Descomprimimos el archivo\n",
    "!tar -xzf /home/diicic/master/SCART/simpsons_train.tar.gz -C /home/diicic/master/SCART/datasets\n",
    "\n",
    "# Hacemos lo mismo con los datos de test\n",
    "keras.utils.get_file(fname=\"/home/diicic/master/SCART/simpsons_test.tar.gz\", \n",
    "                     origin=\"https://onedrive.live.com/download?cid=C506CF0A4F373B0F&resid=C506CF0A4F373B0F%219341&authkey=ANnjK3Uq1FhuAe8\")\n",
    "!tar -xzf /home/diicic/master/SCART/simpsons_test.tar.gz -C /home/diicic/master/SCART/datasets"
   ]
  },
  {
   "cell_type": "code",
   "execution_count": 4,
   "metadata": {
    "colab": {},
    "colab_type": "code",
    "id": "hMFhe3COFwSD"
   },
   "outputs": [],
   "source": [
    "# Esta variable contiene un mapeo de número de clase a personaje.\n",
    "# Utilizamos sólo los 18 personajes del dataset que tienen más imágenes.\n",
    "MAP_CHARACTERS = {\n",
    "    0: 'abraham_grampa_simpson', 1: 'apu_nahasapeemapetilon', 2: 'bart_simpson',\n",
    "    3: 'charles_montgomery_burns', 4: 'chief_wiggum', 5: 'comic_book_guy', 6: 'edna_krabappel', \n",
    "    7: 'homer_simpson', 8: 'kent_brockman', 9: 'krusty_the_clown', 10: 'lisa_simpson', \n",
    "    11: 'marge_simpson', 12: 'milhouse_van_houten', 13: 'moe_szyslak', \n",
    "    14: 'ned_flanders', 15: 'nelson_muntz', 16: 'principal_skinner', 17: 'sideshow_bob'\n",
    "}\n",
    "\n",
    "# Vamos a standarizar todas las imágenes a tamaño 64x64\n",
    "IMG_SIZE = 64"
   ]
  },
  {
   "cell_type": "code",
   "execution_count": 5,
   "metadata": {
    "colab": {},
    "colab_type": "code",
    "id": "5bJ0NsbCbupF"
   },
   "outputs": [],
   "source": [
    "def load_train_set(dirname, map_characters, verbose=True):\n",
    "    \"\"\"Esta función carga los datos de training en imágenes.\n",
    "    \n",
    "    Como las imágenes tienen tamaños distintas, utilizamos la librería opencv\n",
    "    para hacer un resize y adaptarlas todas a tamaño IMG_SIZE x IMG_SIZE.\n",
    "    \n",
    "    Args:\n",
    "        dirname: directorio completo del que leer los datos\n",
    "        map_characters: variable de mapeo entre labels y personajes\n",
    "        verbose: si es True, muestra información de las imágenes cargadas\n",
    "     \n",
    "    Returns:\n",
    "        X, y: X es un array con todas las imágenes cargadas con tamaño\n",
    "                IMG_SIZE x IMG_SIZE\n",
    "              y es un array con las labels de correspondientes a cada imagen\n",
    "    \"\"\"\n",
    "    X_train = []\n",
    "    y_train = []\n",
    "    for label, character in map_characters.items():        \n",
    "        files = os.listdir(os.path.join(dirname, character))\n",
    "        images = [file for file in files if file.endswith(\"jpg\")]\n",
    "        if verbose:\n",
    "          print(\"Leyendo {} imágenes encontradas de {}\".format(len(images), character))\n",
    "        for image_name in images:\n",
    "            image = cv2.imread(os.path.join(dirname, character, image_name))\n",
    "            X_train.append(cv2.resize(image,(IMG_SIZE, IMG_SIZE)))\n",
    "            y_train.append(label)\n",
    "    return np.array(X_train), np.array(y_train)"
   ]
  },
  {
   "cell_type": "code",
   "execution_count": 6,
   "metadata": {
    "colab": {},
    "colab_type": "code",
    "id": "NslxhnnDK6uA"
   },
   "outputs": [],
   "source": [
    "def load_test_set(dirname, map_characters, verbose=True):\n",
    "    \"\"\"Esta función funciona de manera equivalente a la función load_train_set\n",
    "    pero cargando los datos de test.\"\"\"\n",
    "    X_test = []\n",
    "    y_test = []\n",
    "    reverse_dict = {v: k for k, v in map_characters.items()}\n",
    "    for filename in glob.glob(dirname + '/*.*'):\n",
    "        char_name = \"_\".join(filename.split('/')[-1].split('_')[:-1])\n",
    "        if char_name in reverse_dict:\n",
    "            image = cv2.imread(filename)\n",
    "            image = cv2.resize(image, (IMG_SIZE, IMG_SIZE))\n",
    "            X_test.append(image)\n",
    "            y_test.append(reverse_dict[char_name])\n",
    "    if verbose:\n",
    "        print(\"Leídas {} imágenes de test\".format(len(X_test)))\n",
    "    return np.array(X_test), np.array(y_test)\n"
   ]
  },
  {
   "cell_type": "code",
   "execution_count": 7,
   "metadata": {
    "colab": {},
    "colab_type": "code",
    "id": "WVWqKxFcbwTu"
   },
   "outputs": [
    {
     "name": "stdout",
     "output_type": "stream",
     "text": [
      "Leyendo 913 imágenes encontradas de abraham_grampa_simpson\n",
      "Leyendo 623 imágenes encontradas de apu_nahasapeemapetilon\n",
      "Leyendo 1342 imágenes encontradas de bart_simpson\n",
      "Leyendo 1193 imágenes encontradas de charles_montgomery_burns\n",
      "Leyendo 986 imágenes encontradas de chief_wiggum\n",
      "Leyendo 469 imágenes encontradas de comic_book_guy\n",
      "Leyendo 457 imágenes encontradas de edna_krabappel\n",
      "Leyendo 2246 imágenes encontradas de homer_simpson\n",
      "Leyendo 498 imágenes encontradas de kent_brockman\n",
      "Leyendo 1206 imágenes encontradas de krusty_the_clown\n",
      "Leyendo 1354 imágenes encontradas de lisa_simpson\n",
      "Leyendo 1291 imágenes encontradas de marge_simpson\n",
      "Leyendo 1079 imágenes encontradas de milhouse_van_houten\n",
      "Leyendo 1452 imágenes encontradas de moe_szyslak\n",
      "Leyendo 1454 imágenes encontradas de ned_flanders\n",
      "Leyendo 358 imágenes encontradas de nelson_muntz\n",
      "Leyendo 1194 imágenes encontradas de principal_skinner\n",
      "Leyendo 877 imágenes encontradas de sideshow_bob\n",
      "Leídas 890 imágenes de test\n"
     ]
    }
   ],
   "source": [
    "# Cargamos los datos. Si no estás trabajando en colab, cambia los paths por\n",
    "# los de los ficheros donde hayas descargado los datos.\n",
    "DATASET_TRAIN_PATH_COLAB = \"/home/diicic/master/SCART/datasets/simpsons/\"\n",
    "DATASET_TEST_PATH_COLAB = \"/home/diicic/master/SCART/datasets/simpsons_testset/\"\n",
    "\n",
    "X, y = load_train_set(DATASET_TRAIN_PATH_COLAB, MAP_CHARACTERS)\n",
    "X_t, y_t = load_test_set(DATASET_TEST_PATH_COLAB, MAP_CHARACTERS)"
   ]
  },
  {
   "cell_type": "code",
   "execution_count": 8,
   "metadata": {
    "colab": {},
    "colab_type": "code",
    "id": "2GY4vTFyfffv"
   },
   "outputs": [],
   "source": [
    "# Vamos a barajar aleatoriamente los datos. Esto es importante ya que si no\n",
    "# lo hacemos y, por ejemplo, cogemos el 20% de los datos finales como validation\n",
    "# set, estaremos utilizando solo un pequeño número de personajes, ya que\n",
    "# las imágenes se leen secuencialmente personaje a personaje.\n",
    "perm = np.random.permutation(len(X))\n",
    "X, y = X[perm], y[perm]"
   ]
  },
  {
   "cell_type": "markdown",
   "metadata": {
    "colab_type": "text",
    "id": "pBbmz9DMhVhc"
   },
   "source": [
    "## Entregable\n",
    "\n",
    "Utilizando Convolutional Neural Networks con Keras, entrenar un clasificador que sea capaz de reconocer personajes en imágenes de los Simpsons con una accuracy en el dataset de test de **85%**. Redactar un informe analizando varias de las alternativas probadas y los resultados obtenidos.\n",
    "\n",
    "A continuación se detallan una serie de aspectos orientativos que podrían ser analizados en vuestro informe (no es necesario tratar todos ellos ni mucho menos, esto son ideas orientativas de aspectos que podéis explorar):\n",
    "\n",
    "*   Análisis de los datos a utilizar.\n",
    "*   Análisis de resultados, obtención de métricas de *precision* y *recall* por clase y análisis de qué clases obtienen mejores o peores resultados.\n",
    "*   Análisis visual de los errores de la red. ¿Qué tipo de imágenes o qué personajes dan más problemas a nuestro modelo?\n",
    "*   Comparación de modelos CNNs con un modelo de Fully Connected para este problema.\n",
    "*   Utilización de distintas arquitecturas CNNs, comentando aspectos como su profundidad, hiperparámetros utilizados, optimizador, uso de técnicas de regularización, *batch normalization*, etc.\n",
    "*   [ *algo más difícil* ] Utilización de *data augmentation*. Esto puede conseguirse con la clase [ImageDataGenerator](https://keras.io/preprocessing/image/#imagedatagenerator-class) de Keras.\n",
    "\n",
    "Notas: \n",
    "* Recuerda partir los datos en training/validation para tener una buena estimación de los valores que nuestro modelo tendrá en los datos de test, así como comprobar que no estamos cayendo en overfitting. Una posible partición puede ser 80 / 20.\n",
    "* No es necesario mostrar en el notebook las trazas de entrenamiento de todos los modelos entrenados, si bien una buena idea seria guardar gráficas de esos entrenamientos para el análisis. Sin embargo, **se debe mostrar el entrenamiento completo del mejor modelo obtenido y la evaluación de los datos de test con este modelo**.\n",
    "* Las imágenes **no están normalizadas**. Hay que normalizarlas como hemos hecho en trabajos anteriores.\n",
    "* El test set del problema tiene imágenes un poco más \"fáciles\", por lo que es posible encontrarse con métricas en el test set bastante mejores que en el training set."
   ]
  },
  {
   "cell_type": "markdown",
   "metadata": {},
   "source": [
    "### Análisis de los datos"
   ]
  },
  {
   "cell_type": "code",
   "execution_count": 9,
   "metadata": {},
   "outputs": [
    {
     "name": "stdout",
     "output_type": "stream",
     "text": [
      "Tamaño y número de muestras de las imagenes\n",
      "Tenemos  18992 imágenes de tamaño  64 X 64 en RGB ( 3 capas)\n",
      "Hay que separar los datos en: 15194 imágenes de train y 3798 Imágenes de validation.\n"
     ]
    }
   ],
   "source": [
    "print(\"Tamaño y número de muestras de las imagenes\")\n",
    "\n",
    "img_width = X.shape[1]\n",
    "img_height = X.shape[2]\n",
    "\n",
    "print(\"Tenemos \", X.shape[0], \n",
    "      \"imágenes de tamaño \",img_width, \n",
    "      \"X\", img_height,\n",
    "     \"en RGB (\", X.shape[3],\n",
    "      \"capas)\")\n",
    "\n",
    "print(\"Hay que separar los datos en:\", round(18992*0.8), \n",
    "      \"imágenes de train y\",round(18992*0.2), \n",
    "      \"Imágenes de validation.\")"
   ]
  },
  {
   "cell_type": "markdown",
   "metadata": {},
   "source": [
    "### Split data"
   ]
  },
  {
   "cell_type": "code",
   "execution_count": 10,
   "metadata": {},
   "outputs": [
    {
     "name": "stdout",
     "output_type": "stream",
     "text": [
      "(15194, 64, 64, 3)\n",
      "(3798, 64, 64, 3)\n",
      "(890, 64, 64, 3)\n",
      "(15194,)\n",
      "(3798,)\n",
      "(890,)\n"
     ]
    }
   ],
   "source": [
    "#Conjuntos de entrada\n",
    "X_v = X[15194:]\n",
    "X = X[:15194]\n",
    "\n",
    "#Clasificaciones\n",
    "y_v = y[15194:]\n",
    "y = y[:15194]\n",
    "\n",
    "print(X.shape)\n",
    "print(X_v.shape)\n",
    "print(X_t.shape)\n",
    "\n",
    "print(y.shape)\n",
    "print(y_v.shape)\n",
    "print(y_t.shape)"
   ]
  },
  {
   "cell_type": "markdown",
   "metadata": {},
   "source": [
    "### Parametros del modelo"
   ]
  },
  {
   "cell_type": "code",
   "execution_count": 26,
   "metadata": {},
   "outputs": [],
   "source": [
    "\n",
    "from keras.optimizers import SGD,Adam,RMSprop\n",
    "from keras.utils import np_utils"
   ]
  },
  {
   "cell_type": "code",
   "execution_count": 27,
   "metadata": {},
   "outputs": [],
   "source": [
    "VALIDATION_SPLIT=0.2\n",
    "BATCH_SIZE=128\n",
    "NB_CLASSES=18\n",
    "VERBOSE=1\n",
    "NB_EPOCH = 20\n",
    "OPTIM=RMSprop()\n",
    "\n",
    "#convierto a categoricas\n",
    "#y=np_utils.to_categorical(y,NB_CLASSES)\n",
    "#y_t=np_utils.to_categorical(y_t,NB_CLASSES)\n",
    "\n",
    "\n",
    "#float and normalization\n",
    "X=X.astype('float32')\n",
    "X_t=X_t.astype('float32')\n",
    "X/=255\n",
    "X_t/=255\n"
   ]
  },
  {
   "cell_type": "code",
   "execution_count": 14,
   "metadata": {},
   "outputs": [],
   "source": [
    "#Early Stopping y auto tune del Learning rate.\n",
    "reduce_lr = ReduceLROnPlateau(monitor='val_acc',\n",
    "                              factor=0.0001,\n",
    "                              patience=5, \n",
    "                              min_lr=0.00001)\n",
    "\n",
    "early_stop = EarlyStopping(monitor='val_acc', \n",
    "                           min_delta=0, \n",
    "                           patience=10,\n",
    "                           verbose=0, \n",
    "                           mode='auto', \n",
    "                           baseline=None, \n",
    "                           #restore_best_weights=False #Actualizar keras a 2.2.3\n",
    "                          )"
   ]
  },
  {
   "cell_type": "markdown",
   "metadata": {},
   "source": [
    "### Definicion del modelo inicial"
   ]
  },
  {
   "cell_type": "code",
   "execution_count": 42,
   "metadata": {},
   "outputs": [
    {
     "name": "stdout",
     "output_type": "stream",
     "text": [
      "_________________________________________________________________\n",
      "Layer (type)                 Output Shape              Param #   \n",
      "=================================================================\n",
      "conv2d_10 (Conv2D)           (None, 64, 64, 32)        896       \n",
      "_________________________________________________________________\n",
      "activation_15 (Activation)   (None, 64, 64, 32)        0         \n",
      "_________________________________________________________________\n",
      "max_pooling2d_8 (MaxPooling2 (None, 32, 32, 32)        0         \n",
      "_________________________________________________________________\n",
      "dropout_15 (Dropout)         (None, 32, 32, 32)        0         \n",
      "_________________________________________________________________\n",
      "flatten_7 (Flatten)          (None, 32768)             0         \n",
      "_________________________________________________________________\n",
      "dense_14 (Dense)             (None, 512)               16777728  \n",
      "_________________________________________________________________\n",
      "activation_16 (Activation)   (None, 512)               0         \n",
      "_________________________________________________________________\n",
      "dropout_16 (Dropout)         (None, 512)               0         \n",
      "_________________________________________________________________\n",
      "dense_15 (Dense)             (None, 18)                9234      \n",
      "_________________________________________________________________\n",
      "activation_17 (Activation)   (None, 18)                0         \n",
      "=================================================================\n",
      "Total params: 16,787,858\n",
      "Trainable params: 16,787,858\n",
      "Non-trainable params: 0\n",
      "_________________________________________________________________\n"
     ]
    }
   ],
   "source": [
    "#network\n",
    "IMG_ROWS=64\n",
    "IMG_COLS=64\n",
    "IMG_CHANNELS=3\n",
    "model=Sequential()\n",
    "model.add(Conv2D(32,(3,3),padding='same',input_shape=(IMG_ROWS,IMG_COLS,IMG_CHANNELS)))\n",
    "model.add(Activation('relu'))\n",
    "model.add(MaxPooling2D(pool_size=(2,2)))\n",
    "model.add(Dropout(0.25))\n",
    "model.add(Flatten())\n",
    "model.add(Dense(512))\n",
    "model.add(Activation('relu'))\n",
    "model.add(Dropout(0.5))\n",
    "model.add(Dense(18))\n",
    "model.add(Activation('softmax'))\n",
    "model.summary()"
   ]
  },
  {
   "cell_type": "code",
   "execution_count": 43,
   "metadata": {},
   "outputs": [],
   "source": [
    "model.compile(loss='categorical_crossentropy',\n",
    "              optimizer='adam',\n",
    "              metrics=['accuracy'])"
   ]
  },
  {
   "cell_type": "code",
   "execution_count": 44,
   "metadata": {},
   "outputs": [
    {
     "name": "stdout",
     "output_type": "stream",
     "text": [
      "Train on 15194 samples, validate on 3798 samples\n",
      "Epoch 1/500\n",
      "15194/15194 [==============================] - 3s 186us/step - loss: 2.7149 - acc: 0.1880 - val_loss: 10.5980 - val_acc: 0.3307\n",
      "Epoch 2/500\n",
      "15194/15194 [==============================] - 2s 160us/step - loss: 2.0573 - acc: 0.3798 - val_loss: 8.9053 - val_acc: 0.4379\n",
      "Epoch 3/500\n",
      "15194/15194 [==============================] - 3s 165us/step - loss: 1.7341 - acc: 0.4776 - val_loss: 8.4889 - val_acc: 0.4618\n",
      "Epoch 4/500\n",
      "15194/15194 [==============================] - 2s 160us/step - loss: 1.5184 - acc: 0.5373 - val_loss: 7.8140 - val_acc: 0.5071\n",
      "Epoch 5/500\n",
      "15194/15194 [==============================] - 2s 159us/step - loss: 1.3373 - acc: 0.5957 - val_loss: 7.7976 - val_acc: 0.5097\n",
      "Epoch 6/500\n",
      "15194/15194 [==============================] - 2s 159us/step - loss: 1.1665 - acc: 0.6414 - val_loss: 7.9993 - val_acc: 0.4968\n",
      "Epoch 7/500\n",
      "15194/15194 [==============================] - 2s 164us/step - loss: 1.0458 - acc: 0.6785 - val_loss: 8.3502 - val_acc: 0.4771\n",
      "Epoch 8/500\n",
      "15194/15194 [==============================] - 2s 160us/step - loss: 0.9336 - acc: 0.7101 - val_loss: 8.3247 - val_acc: 0.4784\n",
      "Epoch 9/500\n",
      "15194/15194 [==============================] - 2s 156us/step - loss: 0.8297 - acc: 0.7497 - val_loss: 7.9455 - val_acc: 0.5021\n",
      "Epoch 10/500\n",
      "15194/15194 [==============================] - 2s 164us/step - loss: 0.7427 - acc: 0.7669 - val_loss: 8.4340 - val_acc: 0.4708\n",
      "Epoch 11/500\n",
      "15194/15194 [==============================] - 2s 161us/step - loss: 0.6355 - acc: 0.8066 - val_loss: 8.0335 - val_acc: 0.4963\n",
      "Epoch 12/500\n",
      "15194/15194 [==============================] - 2s 158us/step - loss: 0.6156 - acc: 0.8094 - val_loss: 7.9640 - val_acc: 0.5018\n",
      "Epoch 13/500\n",
      "15194/15194 [==============================] - 2s 155us/step - loss: 0.6050 - acc: 0.8137 - val_loss: 7.9955 - val_acc: 0.4997\n",
      "Epoch 14/500\n",
      "15194/15194 [==============================] - 2s 152us/step - loss: 0.5924 - acc: 0.8185 - val_loss: 7.9617 - val_acc: 0.5018\n",
      "Epoch 15/500\n",
      "15194/15194 [==============================] - 2s 155us/step - loss: 0.5848 - acc: 0.8195 - val_loss: 7.9546 - val_acc: 0.5039\n"
     ]
    }
   ],
   "source": [
    "history1 = model.fit(X, y,\n",
    "                     batch_size=BATCH_SIZE,\n",
    "                     callbacks=[reduce_lr, early_stop],\n",
    "                     epochs=500,\n",
    "                     verbose=1,\n",
    "                     validation_data=(X_v, y_v))"
   ]
  },
  {
   "cell_type": "markdown",
   "metadata": {},
   "source": [
    "### Graficas del modelo\n"
   ]
  },
  {
   "cell_type": "code",
   "execution_count": 31,
   "metadata": {},
   "outputs": [],
   "source": [
    "def plot_acc(history, title=\"Model Accuracy\"):\n",
    "    \"\"\"Imprime una gráfica mostrando la accuracy por epoch obtenida en un entrenamiento\"\"\"\n",
    "    plt.plot(history.history['acc'])\n",
    "    plt.plot(history.history['val_acc'])\n",
    "    plt.title(title)\n",
    "    plt.ylabel('Accuracy')\n",
    "    plt.xlabel('Epoch')\n",
    "    plt.legend(['Train', 'Val'], loc='upper left')\n",
    "    plt.show()\n",
    "    \n",
    "def plot_loss(history, title=\"Model Loss\"):\n",
    "    \"\"\"Imprime una gráfica mostrando la pérdida por epoch obtenida en un entrenamiento\"\"\"\n",
    "    plt.plot(history.history['loss'])\n",
    "    plt.plot(history.history['val_loss'])\n",
    "    plt.title(title)\n",
    "    plt.ylabel('Loss')\n",
    "    plt.xlabel('Epoch')\n",
    "    plt.legend(['Train', 'Val'], loc='upper right')\n",
    "    plt.show()\n",
    "    \n",
    "def plot_compare_losses(history1, history2, name1=\"Red 1\",\n",
    "                        name2=\"Red 2\", title=\"Graph title\"):\n",
    "    \"\"\"Compara losses de dos entrenamientos con nombres name1 y name2\"\"\"\n",
    "    plt.plot(history1.history['loss'], color=\"green\")\n",
    "    plt.plot(history1.history['val_loss'], 'r--', color=\"green\")\n",
    "    plt.plot(history2.history['loss'], color=\"blue\")\n",
    "    plt.plot(history2.history['val_loss'], 'r--', color=\"blue\")\n",
    "    plt.title(title)\n",
    "    plt.ylabel('Loss')\n",
    "    plt.xlabel('Epoch')\n",
    "    plt.legend(['Train ' + name1, 'Val ' + name1, \n",
    "                'Train ' + name2, 'Val ' + name2],\n",
    "               loc='upper right')\n",
    "    plt.show()\n",
    "    \n",
    "def plot_compare_accs(history1, history2, name1=\"Red 1\",\n",
    "                      name2=\"Red 2\", title=\"Graph title\"):\n",
    "    \"\"\"Compara accuracies de dos entrenamientos con nombres name1 y name2\"\"\"\n",
    "    plt.plot(history1.history['acc'], color=\"green\")\n",
    "    plt.plot(history1.history['val_acc'], 'r--', color=\"green\")\n",
    "    plt.plot(history2.history['acc'], color=\"blue\")\n",
    "    plt.plot(history2.history['val_acc'], 'r--', color=\"blue\")\n",
    "    plt.title(title)\n",
    "    plt.ylabel('Accuracy')\n",
    "    plt.xlabel('Epoch')\n",
    "    plt.legend(['Train ' + name1, 'Val ' + name1, \n",
    "                'Train ' + name2, 'Val ' + name2], \n",
    "               loc='lower right')\n",
    "    plt.show()\n",
    "    \n",
    "    "
   ]
  },
  {
   "cell_type": "code",
   "execution_count": 35,
   "metadata": {},
   "outputs": [
    {
     "data": {
      "image/png": "[encoded data removed]",
      "text/plain": [
       "<Figure size 432x288 with 1 Axes>"
      ]
     },
     "metadata": {
      "needs_background": "light"
     },
     "output_type": "display_data"
    },
    {
     "data": {
      "image/png": "[encoded data removed]",
      "text/plain": [
       "<Figure size 432x288 with 1 Axes>"
      ]
     },
     "metadata": {
      "needs_background": "light"
     },
     "output_type": "display_data"
    }
   ],
   "source": [
    "#muestro la accuracy del modelo\n",
    "plot_acc(history1, title=\"Model Accuracy\")\n",
    "#muestro la loss del modelo\n",
    "plot_loss(history1, title=\"Model Loss\")"
   ]
  },
  {
   "cell_type": "code",
   "execution_count": 36,
   "metadata": {},
   "outputs": [
    {
     "name": "stdout",
     "output_type": "stream",
     "text": [
      "890/890 [==============================] - 0s 89us/step\n"
     ]
    }
   ],
   "source": [
    "score=model.evaluate(X_t,y_t,batch_size=BATCH_SIZE,verbose=VERBOSE)"
   ]
  },
  {
   "cell_type": "code",
   "execution_count": 37,
   "metadata": {},
   "outputs": [
    {
     "name": "stdout",
     "output_type": "stream",
     "text": [
      "Test score: 0.2728760093450546\n"
     ]
    }
   ],
   "source": [
    "print(\"Test score:\", score[0])"
   ]
  },
  {
   "cell_type": "code",
   "execution_count": 38,
   "metadata": {},
   "outputs": [
    {
     "name": "stdout",
     "output_type": "stream",
     "text": [
      "Test accuracy: 0.9460674142569638\n"
     ]
    }
   ],
   "source": [
    "print(\"Test accuracy:\", score[1])"
   ]
  },
  {
   "cell_type": "markdown",
   "metadata": {},
   "source": [
    "### Mejoras del modelo: más capas convolucionales"
   ]
  },
  {
   "cell_type": "code",
   "execution_count": 45,
   "metadata": {},
   "outputs": [
    {
     "name": "stdout",
     "output_type": "stream",
     "text": [
      "_________________________________________________________________\n",
      "Layer (type)                 Output Shape              Param #   \n",
      "=================================================================\n",
      "conv2d_11 (Conv2D)           (None, 64, 64, 32)        896       \n",
      "_________________________________________________________________\n",
      "activation_18 (Activation)   (None, 64, 64, 32)        0         \n",
      "_________________________________________________________________\n",
      "conv2d_12 (Conv2D)           (None, 64, 64, 32)        9248      \n",
      "_________________________________________________________________\n",
      "activation_19 (Activation)   (None, 64, 64, 32)        0         \n",
      "_________________________________________________________________\n",
      "max_pooling2d_9 (MaxPooling2 (None, 32, 32, 32)        0         \n",
      "_________________________________________________________________\n",
      "dropout_17 (Dropout)         (None, 32, 32, 32)        0         \n",
      "_________________________________________________________________\n",
      "conv2d_13 (Conv2D)           (None, 32, 32, 64)        18496     \n",
      "_________________________________________________________________\n",
      "activation_20 (Activation)   (None, 32, 32, 64)        0         \n",
      "_________________________________________________________________\n",
      "conv2d_14 (Conv2D)           (None, 32, 32, 64)        36928     \n",
      "_________________________________________________________________\n",
      "activation_21 (Activation)   (None, 32, 32, 64)        0         \n",
      "_________________________________________________________________\n",
      "max_pooling2d_10 (MaxPooling (None, 16, 16, 64)        0         \n",
      "_________________________________________________________________\n",
      "dropout_18 (Dropout)         (None, 16, 16, 64)        0         \n",
      "_________________________________________________________________\n",
      "flatten_8 (Flatten)          (None, 16384)             0         \n",
      "_________________________________________________________________\n",
      "dense_16 (Dense)             (None, 512)               8389120   \n",
      "_________________________________________________________________\n",
      "activation_22 (Activation)   (None, 512)               0         \n",
      "_________________________________________________________________\n",
      "dropout_19 (Dropout)         (None, 512)               0         \n",
      "_________________________________________________________________\n",
      "dense_17 (Dense)             (None, 18)                9234      \n",
      "_________________________________________________________________\n",
      "activation_23 (Activation)   (None, 18)                0         \n",
      "=================================================================\n",
      "Total params: 8,463,922\n",
      "Trainable params: 8,463,922\n",
      "Non-trainable params: 0\n",
      "_________________________________________________________________\n"
     ]
    }
   ],
   "source": [
    "IMG_ROWS=64\n",
    "IMG_COLS=64\n",
    "IMG_CHANNELS=3\n",
    "model2 = Sequential()\n",
    "model2.add(Conv2D(32,(3,3),padding='same',input_shape=(IMG_ROWS,IMG_COLS,IMG_CHANNELS)))\n",
    "model2.add(Activation('relu'))\n",
    "model2.add(Conv2D(32,(3,3), padding='same'))\n",
    "model2.add(Activation('relu'))\n",
    "model2.add(MaxPooling2D(pool_size=(2,2)))\n",
    "model2.add(Dropout(0.25))\n",
    "model2.add(Conv2D(64,(3,3),padding='same'))\n",
    "model2.add(Activation('relu'))\n",
    "model2.add(Conv2D(64,(3,3),padding='same'))\n",
    "model2.add(Activation('relu'))\n",
    "model2.add(MaxPooling2D(pool_size=(2,2)))\n",
    "model2.add(Dropout(0.25))\n",
    "model2.add(Flatten())\n",
    "model2.add(Dense(512))\n",
    "model2.add(Activation('relu'))\n",
    "model2.add(Dropout(0.5))\n",
    "model2.add(Dense(NB_CLASSES))\n",
    "model2.add(Activation('softmax'))\n",
    "model2.summary()"
   ]
  },
  {
   "cell_type": "code",
   "execution_count": 46,
   "metadata": {},
   "outputs": [],
   "source": [
    "model2.compile(loss='categorical_crossentropy',\n",
    "              optimizer='adam',\n",
    "              metrics=['accuracy'])"
   ]
  },
  {
   "cell_type": "code",
   "execution_count": 47,
   "metadata": {},
   "outputs": [
    {
     "name": "stdout",
     "output_type": "stream",
     "text": [
      "Train on 12155 samples, validate on 3039 samples\n",
      "Epoch 1/20\n",
      "12155/12155 [==============================] - 4s 339us/step - loss: 2.5520 - acc: 0.2043 - val_loss: 2.1432 - val_acc: 0.3574\n",
      "Epoch 2/20\n",
      "12155/12155 [==============================] - 3s 242us/step - loss: 1.9440 - acc: 0.4090 - val_loss: 1.5857 - val_acc: 0.5301\n",
      "Epoch 3/20\n",
      "12155/12155 [==============================] - 3s 240us/step - loss: 1.4868 - acc: 0.5583 - val_loss: 1.2663 - val_acc: 0.6124\n",
      "Epoch 4/20\n",
      "12155/12155 [==============================] - 3s 245us/step - loss: 1.1510 - acc: 0.6528 - val_loss: 1.0412 - val_acc: 0.6871\n",
      "Epoch 5/20\n",
      "12155/12155 [==============================] - 3s 242us/step - loss: 0.8894 - acc: 0.7277 - val_loss: 0.8984 - val_acc: 0.7233\n",
      "Epoch 6/20\n",
      "12155/12155 [==============================] - 3s 241us/step - loss: 0.6949 - acc: 0.7854 - val_loss: 0.8427 - val_acc: 0.7479\n",
      "Epoch 7/20\n",
      "12155/12155 [==============================] - 3s 241us/step - loss: 0.5416 - acc: 0.8294 - val_loss: 0.7960 - val_acc: 0.7680\n",
      "Epoch 8/20\n",
      "12155/12155 [==============================] - 3s 243us/step - loss: 0.4327 - acc: 0.8635 - val_loss: 0.7762 - val_acc: 0.7772\n",
      "Epoch 9/20\n",
      "12155/12155 [==============================] - 3s 241us/step - loss: 0.3559 - acc: 0.8852 - val_loss: 0.7901 - val_acc: 0.7904\n",
      "Epoch 10/20\n",
      "12155/12155 [==============================] - 3s 240us/step - loss: 0.2627 - acc: 0.9126 - val_loss: 0.8334 - val_acc: 0.7924\n",
      "Epoch 11/20\n",
      "12155/12155 [==============================] - 3s 240us/step - loss: 0.2456 - acc: 0.9186 - val_loss: 0.8798 - val_acc: 0.7845\n",
      "Epoch 12/20\n",
      "12155/12155 [==============================] - 3s 242us/step - loss: 0.1964 - acc: 0.9378 - val_loss: 0.8786 - val_acc: 0.7943\n",
      "Epoch 13/20\n",
      "12155/12155 [==============================] - 3s 243us/step - loss: 0.1947 - acc: 0.9349 - val_loss: 0.8460 - val_acc: 0.7960\n",
      "Epoch 14/20\n",
      "12155/12155 [==============================] - 3s 240us/step - loss: 0.1726 - acc: 0.9458 - val_loss: 0.8770 - val_acc: 0.8026\n",
      "Epoch 15/20\n",
      "12155/12155 [==============================] - 3s 245us/step - loss: 0.1444 - acc: 0.9543 - val_loss: 0.8891 - val_acc: 0.8013\n",
      "Epoch 16/20\n",
      "12155/12155 [==============================] - 3s 241us/step - loss: 0.1296 - acc: 0.9589 - val_loss: 0.9208 - val_acc: 0.8085\n",
      "Epoch 17/20\n",
      "12155/12155 [==============================] - 3s 243us/step - loss: 0.1227 - acc: 0.9580 - val_loss: 1.0238 - val_acc: 0.7953\n",
      "Epoch 18/20\n",
      "12155/12155 [==============================] - 3s 242us/step - loss: 0.1165 - acc: 0.9622 - val_loss: 0.9467 - val_acc: 0.8013\n",
      "Epoch 19/20\n",
      "12155/12155 [==============================] - 3s 235us/step - loss: 0.1162 - acc: 0.9616 - val_loss: 0.9862 - val_acc: 0.8019\n",
      "Epoch 20/20\n",
      "12155/12155 [==============================] - 3s 252us/step - loss: 0.0950 - acc: 0.9687 - val_loss: 0.9701 - val_acc: 0.7989\n"
     ]
    }
   ],
   "source": [
    "\n",
    "VALIDATION_SPLIT=0.2\n",
    "BATCH_SIZE=128\n",
    "VERBOSE=1\n",
    "NB_EPOCH = 20\n",
    "\n",
    "history2 = model2.fit(X, y,\n",
    "                     batch_size=BATCH_SIZE,\n",
    "                     epochs=NB_EPOCH,\n",
    "                     callbacks=[reduce_lr, early_stop],\n",
    "                     validation_split=VALIDATION_SPLIT,\n",
    "                     verbose=VERBOSE)"
   ]
  },
  {
   "cell_type": "code",
   "execution_count": 48,
   "metadata": {},
   "outputs": [
    {
     "data": {
      "image/png": "[encoded data removed]",
      "text/plain": [
       "<Figure size 432x288 with 1 Axes>"
      ]
     },
     "metadata": {
      "needs_background": "light"
     },
     "output_type": "display_data"
    },
    {
     "data": {
      "image/png": "[encoded data removed]",
      "text/plain": [
       "<Figure size 432x288 with 1 Axes>"
      ]
     },
     "metadata": {
      "needs_background": "light"
     },
     "output_type": "display_data"
    }
   ],
   "source": [
    "#muestro la accuracy del modelo\n",
    "plot_acc(history2, title=\"Model Accuracy\")\n",
    "#muestro la loss del modelo\n",
    "plot_loss(history2, title=\"Model Loss\")"
   ]
  },
  {
   "cell_type": "code",
   "execution_count": null,
   "metadata": {},
   "outputs": [],
   "source": []
  }
 ],
 "metadata": {
  "accelerator": "GPU",
  "colab": {
   "collapsed_sections": [],
   "name": "Lab 1.ipynb",
   "provenance": [],
   "toc_visible": true,
   "version": "0.3.2"
  },
  "kernelspec": {
   "display_name": "Python 3",
   "language": "python",
   "name": "python3"
  },
  "language_info": {
   "codemirror_mode": {
    "name": "ipython",
    "version": 3
   },
   "file_extension": ".py",
   "mimetype": "text/x-python",
   "name": "python",
   "nbconvert_exporter": "python",
   "pygments_lexer": "ipython3",
   "version": "3.6.6"
  },
  "toc": {
   "base_numbering": 1,
   "nav_menu": {},
   "number_sections": true,
   "sideBar": true,
   "skip_h1_title": true,
   "title_cell": "Table of Contents",
   "title_sidebar": "Contents",
   "toc_cell": true,
   "toc_position": {
    "height": "calc(100% - 180px)",
    "left": "10px",
    "top": "150px",
    "width": "290.594px"
   },
   "toc_section_display": true,
   "toc_window_display": true
  }
 },
 "nbformat": 4,
 "nbformat_minor": 1
}
